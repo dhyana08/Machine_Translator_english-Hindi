{
  "nbformat": 4,
  "nbformat_minor": 0,
  "metadata": {
    "colab": {
      "provenance": [],
      "gpuType": "T4"
    },
    "kernelspec": {
      "name": "python3",
      "display_name": "Python 3"
    },
    "language_info": {
      "name": "python"
    },
    "accelerator": "GPU"
  },
  "cells": [
    {
      "cell_type": "code",
      "execution_count": null,
      "metadata": {
        "id": "hqpOiQUpmcvM"
      },
      "outputs": [],
      "source": [
        "import numpy as np # linear algebra\n",
        "import pandas as pd # data processing, CSV file I/O (e.g. pd.read_csv)\n",
        "\n",
        "# Input data files are available in the \"../input/\" directory.\n",
        "# For example, running this (by clicking run or pressing Shift+Enter) will list the files in the input directory\n",
        "\n",
        "import os\n",
        "import string\n",
        "from string import digits\n",
        "import matplotlib.pyplot as plt\n",
        "%matplotlib inline\n",
        "import re\n",
        "\n",
        "import seaborn as sns\n",
        "from sklearn.utils import shuffle\n",
        "from sklearn.model_selection import train_test_split\n",
        "from keras.layers import Input, LSTM, Embedding, Dense\n",
        "from keras.models import Model"
      ]
    },
    {
      "cell_type": "code",
      "source": [
        "lines=pd.read_csv('/content/drive/MyDrive/translator/Hindi_English_Truncated_Corpus.csv',encoding='utf-8')"
      ],
      "metadata": {
        "id": "iL4fTeA6m0EI"
      },
      "execution_count": null,
      "outputs": []
    },
    {
      "cell_type": "code",
      "source": [
        "lines['source'].value_counts()"
      ],
      "metadata": {
        "colab": {
          "base_uri": "https://localhost:8080/"
        },
        "id": "Nh3C8AdenAX0",
        "outputId": "37899c60-d177-4176-9363-fa0e4e3a5815"
      },
      "execution_count": null,
      "outputs": [
        {
          "output_type": "execute_result",
          "data": {
            "text/plain": [
              "tides        50000\n",
              "ted          39881\n",
              "indic2012    37726\n",
              "Name: source, dtype: int64"
            ]
          },
          "metadata": {},
          "execution_count": 3
        }
      ]
    },
    {
      "cell_type": "code",
      "source": [
        "lines=lines[lines['source']=='ted']"
      ],
      "metadata": {
        "id": "OkNqzzdynE9r"
      },
      "execution_count": null,
      "outputs": []
    },
    {
      "cell_type": "code",
      "source": [
        "lines.head(20)"
      ],
      "metadata": {
        "colab": {
          "base_uri": "https://localhost:8080/",
          "height": 676
        },
        "id": "jWeLyw-rnHWH",
        "outputId": "51a9e37e-6d14-4d2b-f7da-09149bc812e8"
      },
      "execution_count": null,
      "outputs": [
        {
          "output_type": "execute_result",
          "data": {
            "text/plain": [
              "       source                                   english_sentence  \\\n",
              "8545      ted  she was chased from her home and had to find a...   \n",
              "25292     ted   and have this kind of multiresolution experience   \n",
              "13636     ted                             in i was in bangladesh   \n",
              "53614     ted  but its good enough to know what you dont want...   \n",
              "84295     ted            is lean into the discomfort of the work   \n",
              "18442     ted                            and he said “well okay”   \n",
              "41016     ted                 or alternatively we invoke thoreau   \n",
              "117868    ted   the hippocampus is formed of two sheets of cells   \n",
              "7184      ted        and this is a therapist who sees therapists   \n",
              "44855     ted  thankfully baby was out mother and child survived   \n",
              "104220    ted  were going to be able to scan the brains of ev...   \n",
              "44884     ted                        those were the achievements   \n",
              "76890     ted                     ive been up to its front gates   \n",
              "102525    ted                       they were creating subsidies   \n",
              "35256     ted           is creating pieces of content each month   \n",
              "105506    ted  i fell asleep on the plane until during the mi...   \n",
              "117761    ted                                      or you or you   \n",
              "56824     ted      and that directly increased student wellbeing   \n",
              "45357     ted                    that i described to you earlier   \n",
              "125751    ted                    so the contributions of culture   \n",
              "\n",
              "                                           hindi_sentence  \\\n",
              "8545    START_ उसे घर से भगा दिया गया था और उसे दूसरा ...   \n",
              "25292   START_ और इस प्रकार के बहु अभिवेधन का अनुभव कर...   \n",
              "13636              START_ से तक मैं बाँगलादेश में था _END   \n",
              "53614   START_ मगर इतना भी पर्याप्त है कि पता हो कि आप...   \n",
              "84295              START_ काम की बेआरामी में समा जाओ _END   \n",
              "18442             START_ उन्होंने कहा “अच्छा ठीक है” _END   \n",
              "41016     START_ या फिर हम थोरेयू का आह्वान करते हैं _END   \n",
              "117868  START_ हिप्पोकैम्पस कोशिकाओं की दो परतों से बन...   \n",
              "7184    START_ और ये एक ऐसी थेरेपिस्ट है जो थैरेपिस्टो...   \n",
              "44855   START_ शुक्र है शिशु बहार आ गया जच्चाबच्चा दोन...   \n",
              "104220  START_ हम इससे समन्धित हर किसी के दिमाग की छान...   \n",
              "44884                   START_ ये सब हमारे महान शासन _END   \n",
              "76890        START_ मैं उसके मुख्य द्वार तक गया हूँ। _END   \n",
              "102525          START_ और अनुदान या आर्थिक मदद या तो _END   \n",
              "35256   START_ सामग्री के टुकड़े प्रत्येक महीने बना रह...   \n",
              "105506  START_ मैं हवाई जहाज़ पर सो गया करीब आधी रात त...   \n",
              "117761        START_ या तुम्हे या तुम्हे मार सकता है _END   \n",
              "56824        START_ और इसने छात्रों की भलाई को बढाया _END   \n",
              "45357      START_ जिनके बारे में मैंने पहले बताया था _END   \n",
              "125751                  START_ तो संस्कृति का योगदान _END   \n",
              "\n",
              "        length_eng_sentence  length_hin_sentence  \n",
              "8545                     13                   15  \n",
              "25292                     7                   13  \n",
              "13636                     5                    8  \n",
              "53614                    12                   16  \n",
              "84295                     8                    8  \n",
              "18442                     5                    7  \n",
              "41016                     5                   10  \n",
              "117868                    9                   10  \n",
              "7184                      8                   14  \n",
              "44855                     8                   13  \n",
              "104220                   12                   13  \n",
              "44884                     4                    7  \n",
              "76890                     7                    9  \n",
              "102525                    4                    9  \n",
              "35256                     7                   10  \n",
              "105506                   13                   12  \n",
              "117761                    4                    9  \n",
              "56824                     6                    9  \n",
              "45357                     6                    9  \n",
              "125751                    5                    6  "
            ],
            "text/html": [
              "\n",
              "  <div id=\"df-5e0552cc-a965-4b2e-91e4-c5333aaf06dd\" class=\"colab-df-container\">\n",
              "    <div>\n",
              "<style scoped>\n",
              "    .dataframe tbody tr th:only-of-type {\n",
              "        vertical-align: middle;\n",
              "    }\n",
              "\n",
              "    .dataframe tbody tr th {\n",
              "        vertical-align: top;\n",
              "    }\n",
              "\n",
              "    .dataframe thead th {\n",
              "        text-align: right;\n",
              "    }\n",
              "</style>\n",
              "<table border=\"1\" class=\"dataframe\">\n",
              "  <thead>\n",
              "    <tr style=\"text-align: right;\">\n",
              "      <th></th>\n",
              "      <th>source</th>\n",
              "      <th>english_sentence</th>\n",
              "      <th>hindi_sentence</th>\n",
              "      <th>length_eng_sentence</th>\n",
              "      <th>length_hin_sentence</th>\n",
              "    </tr>\n",
              "  </thead>\n",
              "  <tbody>\n",
              "    <tr>\n",
              "      <th>8545</th>\n",
              "      <td>ted</td>\n",
              "      <td>she was chased from her home and had to find a...</td>\n",
              "      <td>START_ उसे घर से भगा दिया गया था और उसे दूसरा ...</td>\n",
              "      <td>13</td>\n",
              "      <td>15</td>\n",
              "    </tr>\n",
              "    <tr>\n",
              "      <th>25292</th>\n",
              "      <td>ted</td>\n",
              "      <td>and have this kind of multiresolution experience</td>\n",
              "      <td>START_ और इस प्रकार के बहु अभिवेधन का अनुभव कर...</td>\n",
              "      <td>7</td>\n",
              "      <td>13</td>\n",
              "    </tr>\n",
              "    <tr>\n",
              "      <th>13636</th>\n",
              "      <td>ted</td>\n",
              "      <td>in i was in bangladesh</td>\n",
              "      <td>START_ से तक मैं बाँगलादेश में था _END</td>\n",
              "      <td>5</td>\n",
              "      <td>8</td>\n",
              "    </tr>\n",
              "    <tr>\n",
              "      <th>53614</th>\n",
              "      <td>ted</td>\n",
              "      <td>but its good enough to know what you dont want...</td>\n",
              "      <td>START_ मगर इतना भी पर्याप्त है कि पता हो कि आप...</td>\n",
              "      <td>12</td>\n",
              "      <td>16</td>\n",
              "    </tr>\n",
              "    <tr>\n",
              "      <th>84295</th>\n",
              "      <td>ted</td>\n",
              "      <td>is lean into the discomfort of the work</td>\n",
              "      <td>START_ काम की बेआरामी में समा जाओ _END</td>\n",
              "      <td>8</td>\n",
              "      <td>8</td>\n",
              "    </tr>\n",
              "    <tr>\n",
              "      <th>18442</th>\n",
              "      <td>ted</td>\n",
              "      <td>and he said “well okay”</td>\n",
              "      <td>START_ उन्होंने कहा “अच्छा ठीक है” _END</td>\n",
              "      <td>5</td>\n",
              "      <td>7</td>\n",
              "    </tr>\n",
              "    <tr>\n",
              "      <th>41016</th>\n",
              "      <td>ted</td>\n",
              "      <td>or alternatively we invoke thoreau</td>\n",
              "      <td>START_ या फिर हम थोरेयू का आह्वान करते हैं _END</td>\n",
              "      <td>5</td>\n",
              "      <td>10</td>\n",
              "    </tr>\n",
              "    <tr>\n",
              "      <th>117868</th>\n",
              "      <td>ted</td>\n",
              "      <td>the hippocampus is formed of two sheets of cells</td>\n",
              "      <td>START_ हिप्पोकैम्पस कोशिकाओं की दो परतों से बन...</td>\n",
              "      <td>9</td>\n",
              "      <td>10</td>\n",
              "    </tr>\n",
              "    <tr>\n",
              "      <th>7184</th>\n",
              "      <td>ted</td>\n",
              "      <td>and this is a therapist who sees therapists</td>\n",
              "      <td>START_ और ये एक ऐसी थेरेपिस्ट है जो थैरेपिस्टो...</td>\n",
              "      <td>8</td>\n",
              "      <td>14</td>\n",
              "    </tr>\n",
              "    <tr>\n",
              "      <th>44855</th>\n",
              "      <td>ted</td>\n",
              "      <td>thankfully baby was out mother and child survived</td>\n",
              "      <td>START_ शुक्र है शिशु बहार आ गया जच्चाबच्चा दोन...</td>\n",
              "      <td>8</td>\n",
              "      <td>13</td>\n",
              "    </tr>\n",
              "    <tr>\n",
              "      <th>104220</th>\n",
              "      <td>ted</td>\n",
              "      <td>were going to be able to scan the brains of ev...</td>\n",
              "      <td>START_ हम इससे समन्धित हर किसी के दिमाग की छान...</td>\n",
              "      <td>12</td>\n",
              "      <td>13</td>\n",
              "    </tr>\n",
              "    <tr>\n",
              "      <th>44884</th>\n",
              "      <td>ted</td>\n",
              "      <td>those were the achievements</td>\n",
              "      <td>START_ ये सब हमारे महान शासन _END</td>\n",
              "      <td>4</td>\n",
              "      <td>7</td>\n",
              "    </tr>\n",
              "    <tr>\n",
              "      <th>76890</th>\n",
              "      <td>ted</td>\n",
              "      <td>ive been up to its front gates</td>\n",
              "      <td>START_ मैं उसके मुख्य द्वार तक गया हूँ। _END</td>\n",
              "      <td>7</td>\n",
              "      <td>9</td>\n",
              "    </tr>\n",
              "    <tr>\n",
              "      <th>102525</th>\n",
              "      <td>ted</td>\n",
              "      <td>they were creating subsidies</td>\n",
              "      <td>START_ और अनुदान या आर्थिक मदद या तो _END</td>\n",
              "      <td>4</td>\n",
              "      <td>9</td>\n",
              "    </tr>\n",
              "    <tr>\n",
              "      <th>35256</th>\n",
              "      <td>ted</td>\n",
              "      <td>is creating pieces of content each month</td>\n",
              "      <td>START_ सामग्री के टुकड़े प्रत्येक महीने बना रह...</td>\n",
              "      <td>7</td>\n",
              "      <td>10</td>\n",
              "    </tr>\n",
              "    <tr>\n",
              "      <th>105506</th>\n",
              "      <td>ted</td>\n",
              "      <td>i fell asleep on the plane until during the mi...</td>\n",
              "      <td>START_ मैं हवाई जहाज़ पर सो गया करीब आधी रात त...</td>\n",
              "      <td>13</td>\n",
              "      <td>12</td>\n",
              "    </tr>\n",
              "    <tr>\n",
              "      <th>117761</th>\n",
              "      <td>ted</td>\n",
              "      <td>or you or you</td>\n",
              "      <td>START_ या तुम्हे या तुम्हे मार सकता है _END</td>\n",
              "      <td>4</td>\n",
              "      <td>9</td>\n",
              "    </tr>\n",
              "    <tr>\n",
              "      <th>56824</th>\n",
              "      <td>ted</td>\n",
              "      <td>and that directly increased student wellbeing</td>\n",
              "      <td>START_ और इसने छात्रों की भलाई को बढाया _END</td>\n",
              "      <td>6</td>\n",
              "      <td>9</td>\n",
              "    </tr>\n",
              "    <tr>\n",
              "      <th>45357</th>\n",
              "      <td>ted</td>\n",
              "      <td>that i described to you earlier</td>\n",
              "      <td>START_ जिनके बारे में मैंने पहले बताया था _END</td>\n",
              "      <td>6</td>\n",
              "      <td>9</td>\n",
              "    </tr>\n",
              "    <tr>\n",
              "      <th>125751</th>\n",
              "      <td>ted</td>\n",
              "      <td>so the contributions of culture</td>\n",
              "      <td>START_ तो संस्कृति का योगदान _END</td>\n",
              "      <td>5</td>\n",
              "      <td>6</td>\n",
              "    </tr>\n",
              "  </tbody>\n",
              "</table>\n",
              "</div>\n",
              "    <div class=\"colab-df-buttons\">\n",
              "\n",
              "  <div class=\"colab-df-container\">\n",
              "    <button class=\"colab-df-convert\" onclick=\"convertToInteractive('df-5e0552cc-a965-4b2e-91e4-c5333aaf06dd')\"\n",
              "            title=\"Convert this dataframe to an interactive table.\"\n",
              "            style=\"display:none;\">\n",
              "\n",
              "  <svg xmlns=\"http://www.w3.org/2000/svg\" height=\"24px\" viewBox=\"0 -960 960 960\">\n",
              "    <path d=\"M120-120v-720h720v720H120Zm60-500h600v-160H180v160Zm220 220h160v-160H400v160Zm0 220h160v-160H400v160ZM180-400h160v-160H180v160Zm440 0h160v-160H620v160ZM180-180h160v-160H180v160Zm440 0h160v-160H620v160Z\"/>\n",
              "  </svg>\n",
              "    </button>\n",
              "\n",
              "  <style>\n",
              "    .colab-df-container {\n",
              "      display:flex;\n",
              "      gap: 12px;\n",
              "    }\n",
              "\n",
              "    .colab-df-convert {\n",
              "      background-color: #E8F0FE;\n",
              "      border: none;\n",
              "      border-radius: 50%;\n",
              "      cursor: pointer;\n",
              "      display: none;\n",
              "      fill: #1967D2;\n",
              "      height: 32px;\n",
              "      padding: 0 0 0 0;\n",
              "      width: 32px;\n",
              "    }\n",
              "\n",
              "    .colab-df-convert:hover {\n",
              "      background-color: #E2EBFA;\n",
              "      box-shadow: 0px 1px 2px rgba(60, 64, 67, 0.3), 0px 1px 3px 1px rgba(60, 64, 67, 0.15);\n",
              "      fill: #174EA6;\n",
              "    }\n",
              "\n",
              "    .colab-df-buttons div {\n",
              "      margin-bottom: 4px;\n",
              "    }\n",
              "\n",
              "    [theme=dark] .colab-df-convert {\n",
              "      background-color: #3B4455;\n",
              "      fill: #D2E3FC;\n",
              "    }\n",
              "\n",
              "    [theme=dark] .colab-df-convert:hover {\n",
              "      background-color: #434B5C;\n",
              "      box-shadow: 0px 1px 3px 1px rgba(0, 0, 0, 0.15);\n",
              "      filter: drop-shadow(0px 1px 2px rgba(0, 0, 0, 0.3));\n",
              "      fill: #FFFFFF;\n",
              "    }\n",
              "  </style>\n",
              "\n",
              "    <script>\n",
              "      const buttonEl =\n",
              "        document.querySelector('#df-5e0552cc-a965-4b2e-91e4-c5333aaf06dd button.colab-df-convert');\n",
              "      buttonEl.style.display =\n",
              "        google.colab.kernel.accessAllowed ? 'block' : 'none';\n",
              "\n",
              "      async function convertToInteractive(key) {\n",
              "        const element = document.querySelector('#df-5e0552cc-a965-4b2e-91e4-c5333aaf06dd');\n",
              "        const dataTable =\n",
              "          await google.colab.kernel.invokeFunction('convertToInteractive',\n",
              "                                                    [key], {});\n",
              "        if (!dataTable) return;\n",
              "\n",
              "        const docLinkHtml = 'Like what you see? Visit the ' +\n",
              "          '<a target=\"_blank\" href=https://colab.research.google.com/notebooks/data_table.ipynb>data table notebook</a>'\n",
              "          + ' to learn more about interactive tables.';\n",
              "        element.innerHTML = '';\n",
              "        dataTable['output_type'] = 'display_data';\n",
              "        await google.colab.output.renderOutput(dataTable, element);\n",
              "        const docLink = document.createElement('div');\n",
              "        docLink.innerHTML = docLinkHtml;\n",
              "        element.appendChild(docLink);\n",
              "      }\n",
              "    </script>\n",
              "  </div>\n",
              "\n",
              "\n",
              "<div id=\"df-7891c129-c0ba-46c8-96ef-6e16a493aa76\">\n",
              "  <button class=\"colab-df-quickchart\" onclick=\"quickchart('df-7891c129-c0ba-46c8-96ef-6e16a493aa76')\"\n",
              "            title=\"Suggest charts\"\n",
              "            style=\"display:none;\">\n",
              "\n",
              "<svg xmlns=\"http://www.w3.org/2000/svg\" height=\"24px\"viewBox=\"0 0 24 24\"\n",
              "     width=\"24px\">\n",
              "    <g>\n",
              "        <path d=\"M19 3H5c-1.1 0-2 .9-2 2v14c0 1.1.9 2 2 2h14c1.1 0 2-.9 2-2V5c0-1.1-.9-2-2-2zM9 17H7v-7h2v7zm4 0h-2V7h2v10zm4 0h-2v-4h2v4z\"/>\n",
              "    </g>\n",
              "</svg>\n",
              "  </button>\n",
              "\n",
              "<style>\n",
              "  .colab-df-quickchart {\n",
              "      --bg-color: #E8F0FE;\n",
              "      --fill-color: #1967D2;\n",
              "      --hover-bg-color: #E2EBFA;\n",
              "      --hover-fill-color: #174EA6;\n",
              "      --disabled-fill-color: #AAA;\n",
              "      --disabled-bg-color: #DDD;\n",
              "  }\n",
              "\n",
              "  [theme=dark] .colab-df-quickchart {\n",
              "      --bg-color: #3B4455;\n",
              "      --fill-color: #D2E3FC;\n",
              "      --hover-bg-color: #434B5C;\n",
              "      --hover-fill-color: #FFFFFF;\n",
              "      --disabled-bg-color: #3B4455;\n",
              "      --disabled-fill-color: #666;\n",
              "  }\n",
              "\n",
              "  .colab-df-quickchart {\n",
              "    background-color: var(--bg-color);\n",
              "    border: none;\n",
              "    border-radius: 50%;\n",
              "    cursor: pointer;\n",
              "    display: none;\n",
              "    fill: var(--fill-color);\n",
              "    height: 32px;\n",
              "    padding: 0;\n",
              "    width: 32px;\n",
              "  }\n",
              "\n",
              "  .colab-df-quickchart:hover {\n",
              "    background-color: var(--hover-bg-color);\n",
              "    box-shadow: 0 1px 2px rgba(60, 64, 67, 0.3), 0 1px 3px 1px rgba(60, 64, 67, 0.15);\n",
              "    fill: var(--button-hover-fill-color);\n",
              "  }\n",
              "\n",
              "  .colab-df-quickchart-complete:disabled,\n",
              "  .colab-df-quickchart-complete:disabled:hover {\n",
              "    background-color: var(--disabled-bg-color);\n",
              "    fill: var(--disabled-fill-color);\n",
              "    box-shadow: none;\n",
              "  }\n",
              "\n",
              "  .colab-df-spinner {\n",
              "    border: 2px solid var(--fill-color);\n",
              "    border-color: transparent;\n",
              "    border-bottom-color: var(--fill-color);\n",
              "    animation:\n",
              "      spin 1s steps(1) infinite;\n",
              "  }\n",
              "\n",
              "  @keyframes spin {\n",
              "    0% {\n",
              "      border-color: transparent;\n",
              "      border-bottom-color: var(--fill-color);\n",
              "      border-left-color: var(--fill-color);\n",
              "    }\n",
              "    20% {\n",
              "      border-color: transparent;\n",
              "      border-left-color: var(--fill-color);\n",
              "      border-top-color: var(--fill-color);\n",
              "    }\n",
              "    30% {\n",
              "      border-color: transparent;\n",
              "      border-left-color: var(--fill-color);\n",
              "      border-top-color: var(--fill-color);\n",
              "      border-right-color: var(--fill-color);\n",
              "    }\n",
              "    40% {\n",
              "      border-color: transparent;\n",
              "      border-right-color: var(--fill-color);\n",
              "      border-top-color: var(--fill-color);\n",
              "    }\n",
              "    60% {\n",
              "      border-color: transparent;\n",
              "      border-right-color: var(--fill-color);\n",
              "    }\n",
              "    80% {\n",
              "      border-color: transparent;\n",
              "      border-right-color: var(--fill-color);\n",
              "      border-bottom-color: var(--fill-color);\n",
              "    }\n",
              "    90% {\n",
              "      border-color: transparent;\n",
              "      border-bottom-color: var(--fill-color);\n",
              "    }\n",
              "  }\n",
              "</style>\n",
              "\n",
              "  <script>\n",
              "    async function quickchart(key) {\n",
              "      const quickchartButtonEl =\n",
              "        document.querySelector('#' + key + ' button');\n",
              "      quickchartButtonEl.disabled = true;  // To prevent multiple clicks.\n",
              "      quickchartButtonEl.classList.add('colab-df-spinner');\n",
              "      try {\n",
              "        const charts = await google.colab.kernel.invokeFunction(\n",
              "            'suggestCharts', [key], {});\n",
              "      } catch (error) {\n",
              "        console.error('Error during call to suggestCharts:', error);\n",
              "      }\n",
              "      quickchartButtonEl.classList.remove('colab-df-spinner');\n",
              "      quickchartButtonEl.classList.add('colab-df-quickchart-complete');\n",
              "    }\n",
              "    (() => {\n",
              "      let quickchartButtonEl =\n",
              "        document.querySelector('#df-7891c129-c0ba-46c8-96ef-6e16a493aa76 button');\n",
              "      quickchartButtonEl.style.display =\n",
              "        google.colab.kernel.accessAllowed ? 'block' : 'none';\n",
              "    })();\n",
              "  </script>\n",
              "</div>\n",
              "\n",
              "    </div>\n",
              "  </div>\n"
            ],
            "application/vnd.google.colaboratory.intrinsic+json": {
              "type": "dataframe",
              "variable_name": "lines",
              "summary": "{\n  \"name\": \"lines\",\n  \"rows\": 38476,\n  \"fields\": [\n    {\n      \"column\": \"source\",\n      \"properties\": {\n        \"dtype\": \"category\",\n        \"num_unique_values\": 1,\n        \"samples\": [\n          \"ted\"\n        ],\n        \"semantic_type\": \"\",\n        \"description\": \"\"\n      }\n    },\n    {\n      \"column\": \"english_sentence\",\n      \"properties\": {\n        \"dtype\": \"string\",\n        \"num_unique_values\": 38221,\n        \"samples\": [\n          \"if youre in finance or marketing or manufacturing\"\n        ],\n        \"semantic_type\": \"\",\n        \"description\": \"\"\n      }\n    },\n    {\n      \"column\": \"hindi_sentence\",\n      \"properties\": {\n        \"dtype\": \"string\",\n        \"num_unique_values\": 38321,\n        \"samples\": [\n          \"START_ \\u0935\\u0939 \\u0909\\u0928\\u094d\\u0939\\u0947 \\u0935\\u093f\\u0936\\u094d\\u0935 \\u0915\\u0947 \\u0928\\u093e\\u0917\\u0930\\u093f\\u0915 \\u0938\\u0947 \\u092c\\u0926\\u0932 \\u0926\\u0947\\u0924\\u093e \\u0939\\u0948 _END\"\n        ],\n        \"semantic_type\": \"\",\n        \"description\": \"\"\n      }\n    },\n    {\n      \"column\": \"length_eng_sentence\",\n      \"properties\": {\n        \"dtype\": \"number\",\n        \"std\": 2,\n        \"min\": 1,\n        \"max\": 20,\n        \"num_unique_values\": 20,\n        \"samples\": [\n          13\n        ],\n        \"semantic_type\": \"\",\n        \"description\": \"\"\n      }\n    },\n    {\n      \"column\": \"length_hin_sentence\",\n      \"properties\": {\n        \"dtype\": \"number\",\n        \"std\": 3,\n        \"min\": 3,\n        \"max\": 20,\n        \"num_unique_values\": 18,\n        \"samples\": [\n          15\n        ],\n        \"semantic_type\": \"\",\n        \"description\": \"\"\n      }\n    }\n  ]\n}"
            }
          },
          "metadata": {},
          "execution_count": 41
        }
      ]
    },
    {
      "cell_type": "code",
      "source": [
        "\n",
        "pd.isnull(lines).sum()"
      ],
      "metadata": {
        "colab": {
          "base_uri": "https://localhost:8080/"
        },
        "id": "lRWl4wkCnLMh",
        "outputId": "32b6ff95-eed6-4183-aa0e-864ed8e9a5d5"
      },
      "execution_count": null,
      "outputs": [
        {
          "output_type": "execute_result",
          "data": {
            "text/plain": [
              "source                 0\n",
              "english_sentence       0\n",
              "hindi_sentence         0\n",
              "length_eng_sentence    0\n",
              "length_hin_sentence    0\n",
              "dtype: int64"
            ]
          },
          "metadata": {},
          "execution_count": 42
        }
      ]
    },
    {
      "cell_type": "code",
      "source": [
        "lines=lines[~pd.isnull(lines['english_sentence'])]"
      ],
      "metadata": {
        "id": "1BRNrjuEnX2p"
      },
      "execution_count": null,
      "outputs": []
    },
    {
      "cell_type": "code",
      "source": [
        "\n",
        "lines.drop_duplicates(inplace=True)"
      ],
      "metadata": {
        "id": "_NK2wK29ncVd"
      },
      "execution_count": null,
      "outputs": []
    },
    {
      "cell_type": "code",
      "source": [
        "lines=lines.sample(n=25000,random_state=42)\n",
        "lines.shape"
      ],
      "metadata": {
        "id": "quUwOsNL9ysz",
        "colab": {
          "base_uri": "https://localhost:8080/"
        },
        "outputId": "72219b45-ec7b-487a-d22d-935844807087"
      },
      "execution_count": null,
      "outputs": [
        {
          "output_type": "execute_result",
          "data": {
            "text/plain": [
              "(25000, 5)"
            ]
          },
          "metadata": {},
          "execution_count": 48
        }
      ]
    },
    {
      "cell_type": "code",
      "source": [
        "\n",
        "lines.shape"
      ],
      "metadata": {
        "colab": {
          "base_uri": "https://localhost:8080/"
        },
        "id": "42fItrwYnfbA",
        "outputId": "dd5f71b8-82e2-4e56-9047-e85151512494"
      },
      "execution_count": null,
      "outputs": [
        {
          "output_type": "execute_result",
          "data": {
            "text/plain": [
              "(25000, 5)"
            ]
          },
          "metadata": {},
          "execution_count": 49
        }
      ]
    },
    {
      "cell_type": "code",
      "source": [
        "lines['english_sentence']=lines['english_sentence'].apply(lambda x: x.lower())\n",
        "lines['hindi_sentence']=lines['hindi_sentence'].apply(lambda x: x.lower())"
      ],
      "metadata": {
        "id": "qD4YQ9tbnhZ_"
      },
      "execution_count": null,
      "outputs": []
    },
    {
      "cell_type": "code",
      "source": [],
      "metadata": {
        "id": "W20snk2T077t"
      },
      "execution_count": null,
      "outputs": []
    },
    {
      "cell_type": "code",
      "source": [
        "lines['english_sentence']=lines['english_sentence'].apply(lambda x: re.sub(\"'\", '', x))\n",
        "lines['hindi_sentence']=lines['hindi_sentence'].apply(lambda x: re.sub(\"'\", '', x))"
      ],
      "metadata": {
        "id": "JpPgM7ccnkYm"
      },
      "execution_count": null,
      "outputs": []
    },
    {
      "cell_type": "code",
      "source": [
        "exclude = set(string.punctuation) # Set of all special characters\n",
        "# Remove all the special characters\n",
        "lines['english_sentence']=lines['english_sentence'].apply(lambda x: ''.join(ch for ch in x if ch not in exclude))\n",
        "lines['hindi_sentence']=lines['hindi_sentence'].apply(lambda x: ''.join(ch for ch in x if ch not in exclude))"
      ],
      "metadata": {
        "id": "lBxH5Ir2nnNu"
      },
      "execution_count": null,
      "outputs": []
    },
    {
      "cell_type": "code",
      "source": [
        "# Remove all numbers from text\n",
        "remove_digits = str.maketrans('', '', digits)\n",
        "lines['english_sentence']=lines['english_sentence'].apply(lambda x: x.translate(remove_digits))\n",
        "lines['hindi_sentence']=lines['hindi_sentence'].apply(lambda x: x.translate(remove_digits))\n",
        "\n",
        "lines['hindi_sentence'] = lines['hindi_sentence'].apply(lambda x: re.sub(\"[२३०८१५७९४६]\", \"\", x))\n",
        "\n",
        "# Remove extra spaces\n",
        "lines['english_sentence']=lines['english_sentence'].apply(lambda x: x.strip())\n",
        "lines['hindi_sentence']=lines['hindi_sentence'].apply(lambda x: x.strip())\n",
        "lines['english_sentence']=lines['english_sentence'].apply(lambda x: re.sub(\" +\", \" \", x))\n",
        "lines['hindi_sentence']=lines['hindi_sentence'].apply(lambda x: re.sub(\" +\", \" \", x))"
      ],
      "metadata": {
        "id": "ObnocmPynqn2"
      },
      "execution_count": null,
      "outputs": []
    },
    {
      "cell_type": "code",
      "source": [
        "# Add start and end tokens to target sequences\n",
        "lines['hindi_sentence'] = lines['hindi_sentence'].apply(lambda x : 'START_ '+ x + ' _END')"
      ],
      "metadata": {
        "id": "jbGF6ug5nubg"
      },
      "execution_count": null,
      "outputs": []
    },
    {
      "cell_type": "code",
      "source": [
        "lines.head()\n"
      ],
      "metadata": {
        "colab": {
          "base_uri": "https://localhost:8080/",
          "height": 206
        },
        "id": "qokumg4-nw6h",
        "outputId": "48d81743-7992-4841-c99e-41113df91f52"
      },
      "execution_count": null,
      "outputs": [
        {
          "output_type": "execute_result",
          "data": {
            "text/plain": [
              "       source                                 english_sentence  \\\n",
              "11355     ted                      pranitha shaheen and anjali   \n",
              "104589    ted                    people were trying to do them   \n",
              "89468     ted                its very easy to lose perspective   \n",
              "92165     ted                                to take the photo   \n",
              "79264     ted  to sound its music in the ear and on the tongue   \n",
              "\n",
              "                                           hindi_sentence  \\\n",
              "11355        START_ start प्रणिता शाहीन और अंजलि end _END   \n",
              "104589          START_ start लोग कोशिश कर रहे थे end _END   \n",
              "89468   START_ start तो अपना आपा खोना बहुत आसान होता ह...   \n",
              "92165                START_ start इस फोटो के लिए end _END   \n",
              "79264   START_ start ताकि इसका संगीत कानों और ज़बान को...   \n",
              "\n",
              "        length_eng_sentence  length_hin_sentence  \n",
              "11355                     4                    6  \n",
              "104589                    6                    7  \n",
              "89468                     6                   10  \n",
              "92165                     4                    6  \n",
              "79264                    11                   11  "
            ],
            "text/html": [
              "\n",
              "  <div id=\"df-bef9097a-8e1b-47e8-a8c4-4e458431d2ac\" class=\"colab-df-container\">\n",
              "    <div>\n",
              "<style scoped>\n",
              "    .dataframe tbody tr th:only-of-type {\n",
              "        vertical-align: middle;\n",
              "    }\n",
              "\n",
              "    .dataframe tbody tr th {\n",
              "        vertical-align: top;\n",
              "    }\n",
              "\n",
              "    .dataframe thead th {\n",
              "        text-align: right;\n",
              "    }\n",
              "</style>\n",
              "<table border=\"1\" class=\"dataframe\">\n",
              "  <thead>\n",
              "    <tr style=\"text-align: right;\">\n",
              "      <th></th>\n",
              "      <th>source</th>\n",
              "      <th>english_sentence</th>\n",
              "      <th>hindi_sentence</th>\n",
              "      <th>length_eng_sentence</th>\n",
              "      <th>length_hin_sentence</th>\n",
              "    </tr>\n",
              "  </thead>\n",
              "  <tbody>\n",
              "    <tr>\n",
              "      <th>11355</th>\n",
              "      <td>ted</td>\n",
              "      <td>pranitha shaheen and anjali</td>\n",
              "      <td>START_ start प्रणिता शाहीन और अंजलि end _END</td>\n",
              "      <td>4</td>\n",
              "      <td>6</td>\n",
              "    </tr>\n",
              "    <tr>\n",
              "      <th>104589</th>\n",
              "      <td>ted</td>\n",
              "      <td>people were trying to do them</td>\n",
              "      <td>START_ start लोग कोशिश कर रहे थे end _END</td>\n",
              "      <td>6</td>\n",
              "      <td>7</td>\n",
              "    </tr>\n",
              "    <tr>\n",
              "      <th>89468</th>\n",
              "      <td>ted</td>\n",
              "      <td>its very easy to lose perspective</td>\n",
              "      <td>START_ start तो अपना आपा खोना बहुत आसान होता ह...</td>\n",
              "      <td>6</td>\n",
              "      <td>10</td>\n",
              "    </tr>\n",
              "    <tr>\n",
              "      <th>92165</th>\n",
              "      <td>ted</td>\n",
              "      <td>to take the photo</td>\n",
              "      <td>START_ start इस फोटो के लिए end _END</td>\n",
              "      <td>4</td>\n",
              "      <td>6</td>\n",
              "    </tr>\n",
              "    <tr>\n",
              "      <th>79264</th>\n",
              "      <td>ted</td>\n",
              "      <td>to sound its music in the ear and on the tongue</td>\n",
              "      <td>START_ start ताकि इसका संगीत कानों और ज़बान को...</td>\n",
              "      <td>11</td>\n",
              "      <td>11</td>\n",
              "    </tr>\n",
              "  </tbody>\n",
              "</table>\n",
              "</div>\n",
              "    <div class=\"colab-df-buttons\">\n",
              "\n",
              "  <div class=\"colab-df-container\">\n",
              "    <button class=\"colab-df-convert\" onclick=\"convertToInteractive('df-bef9097a-8e1b-47e8-a8c4-4e458431d2ac')\"\n",
              "            title=\"Convert this dataframe to an interactive table.\"\n",
              "            style=\"display:none;\">\n",
              "\n",
              "  <svg xmlns=\"http://www.w3.org/2000/svg\" height=\"24px\" viewBox=\"0 -960 960 960\">\n",
              "    <path d=\"M120-120v-720h720v720H120Zm60-500h600v-160H180v160Zm220 220h160v-160H400v160Zm0 220h160v-160H400v160ZM180-400h160v-160H180v160Zm440 0h160v-160H620v160ZM180-180h160v-160H180v160Zm440 0h160v-160H620v160Z\"/>\n",
              "  </svg>\n",
              "    </button>\n",
              "\n",
              "  <style>\n",
              "    .colab-df-container {\n",
              "      display:flex;\n",
              "      gap: 12px;\n",
              "    }\n",
              "\n",
              "    .colab-df-convert {\n",
              "      background-color: #E8F0FE;\n",
              "      border: none;\n",
              "      border-radius: 50%;\n",
              "      cursor: pointer;\n",
              "      display: none;\n",
              "      fill: #1967D2;\n",
              "      height: 32px;\n",
              "      padding: 0 0 0 0;\n",
              "      width: 32px;\n",
              "    }\n",
              "\n",
              "    .colab-df-convert:hover {\n",
              "      background-color: #E2EBFA;\n",
              "      box-shadow: 0px 1px 2px rgba(60, 64, 67, 0.3), 0px 1px 3px 1px rgba(60, 64, 67, 0.15);\n",
              "      fill: #174EA6;\n",
              "    }\n",
              "\n",
              "    .colab-df-buttons div {\n",
              "      margin-bottom: 4px;\n",
              "    }\n",
              "\n",
              "    [theme=dark] .colab-df-convert {\n",
              "      background-color: #3B4455;\n",
              "      fill: #D2E3FC;\n",
              "    }\n",
              "\n",
              "    [theme=dark] .colab-df-convert:hover {\n",
              "      background-color: #434B5C;\n",
              "      box-shadow: 0px 1px 3px 1px rgba(0, 0, 0, 0.15);\n",
              "      filter: drop-shadow(0px 1px 2px rgba(0, 0, 0, 0.3));\n",
              "      fill: #FFFFFF;\n",
              "    }\n",
              "  </style>\n",
              "\n",
              "    <script>\n",
              "      const buttonEl =\n",
              "        document.querySelector('#df-bef9097a-8e1b-47e8-a8c4-4e458431d2ac button.colab-df-convert');\n",
              "      buttonEl.style.display =\n",
              "        google.colab.kernel.accessAllowed ? 'block' : 'none';\n",
              "\n",
              "      async function convertToInteractive(key) {\n",
              "        const element = document.querySelector('#df-bef9097a-8e1b-47e8-a8c4-4e458431d2ac');\n",
              "        const dataTable =\n",
              "          await google.colab.kernel.invokeFunction('convertToInteractive',\n",
              "                                                    [key], {});\n",
              "        if (!dataTable) return;\n",
              "\n",
              "        const docLinkHtml = 'Like what you see? Visit the ' +\n",
              "          '<a target=\"_blank\" href=https://colab.research.google.com/notebooks/data_table.ipynb>data table notebook</a>'\n",
              "          + ' to learn more about interactive tables.';\n",
              "        element.innerHTML = '';\n",
              "        dataTable['output_type'] = 'display_data';\n",
              "        await google.colab.output.renderOutput(dataTable, element);\n",
              "        const docLink = document.createElement('div');\n",
              "        docLink.innerHTML = docLinkHtml;\n",
              "        element.appendChild(docLink);\n",
              "      }\n",
              "    </script>\n",
              "  </div>\n",
              "\n",
              "\n",
              "<div id=\"df-c981c80d-ea45-4e31-a729-2ba9d0c51344\">\n",
              "  <button class=\"colab-df-quickchart\" onclick=\"quickchart('df-c981c80d-ea45-4e31-a729-2ba9d0c51344')\"\n",
              "            title=\"Suggest charts\"\n",
              "            style=\"display:none;\">\n",
              "\n",
              "<svg xmlns=\"http://www.w3.org/2000/svg\" height=\"24px\"viewBox=\"0 0 24 24\"\n",
              "     width=\"24px\">\n",
              "    <g>\n",
              "        <path d=\"M19 3H5c-1.1 0-2 .9-2 2v14c0 1.1.9 2 2 2h14c1.1 0 2-.9 2-2V5c0-1.1-.9-2-2-2zM9 17H7v-7h2v7zm4 0h-2V7h2v10zm4 0h-2v-4h2v4z\"/>\n",
              "    </g>\n",
              "</svg>\n",
              "  </button>\n",
              "\n",
              "<style>\n",
              "  .colab-df-quickchart {\n",
              "      --bg-color: #E8F0FE;\n",
              "      --fill-color: #1967D2;\n",
              "      --hover-bg-color: #E2EBFA;\n",
              "      --hover-fill-color: #174EA6;\n",
              "      --disabled-fill-color: #AAA;\n",
              "      --disabled-bg-color: #DDD;\n",
              "  }\n",
              "\n",
              "  [theme=dark] .colab-df-quickchart {\n",
              "      --bg-color: #3B4455;\n",
              "      --fill-color: #D2E3FC;\n",
              "      --hover-bg-color: #434B5C;\n",
              "      --hover-fill-color: #FFFFFF;\n",
              "      --disabled-bg-color: #3B4455;\n",
              "      --disabled-fill-color: #666;\n",
              "  }\n",
              "\n",
              "  .colab-df-quickchart {\n",
              "    background-color: var(--bg-color);\n",
              "    border: none;\n",
              "    border-radius: 50%;\n",
              "    cursor: pointer;\n",
              "    display: none;\n",
              "    fill: var(--fill-color);\n",
              "    height: 32px;\n",
              "    padding: 0;\n",
              "    width: 32px;\n",
              "  }\n",
              "\n",
              "  .colab-df-quickchart:hover {\n",
              "    background-color: var(--hover-bg-color);\n",
              "    box-shadow: 0 1px 2px rgba(60, 64, 67, 0.3), 0 1px 3px 1px rgba(60, 64, 67, 0.15);\n",
              "    fill: var(--button-hover-fill-color);\n",
              "  }\n",
              "\n",
              "  .colab-df-quickchart-complete:disabled,\n",
              "  .colab-df-quickchart-complete:disabled:hover {\n",
              "    background-color: var(--disabled-bg-color);\n",
              "    fill: var(--disabled-fill-color);\n",
              "    box-shadow: none;\n",
              "  }\n",
              "\n",
              "  .colab-df-spinner {\n",
              "    border: 2px solid var(--fill-color);\n",
              "    border-color: transparent;\n",
              "    border-bottom-color: var(--fill-color);\n",
              "    animation:\n",
              "      spin 1s steps(1) infinite;\n",
              "  }\n",
              "\n",
              "  @keyframes spin {\n",
              "    0% {\n",
              "      border-color: transparent;\n",
              "      border-bottom-color: var(--fill-color);\n",
              "      border-left-color: var(--fill-color);\n",
              "    }\n",
              "    20% {\n",
              "      border-color: transparent;\n",
              "      border-left-color: var(--fill-color);\n",
              "      border-top-color: var(--fill-color);\n",
              "    }\n",
              "    30% {\n",
              "      border-color: transparent;\n",
              "      border-left-color: var(--fill-color);\n",
              "      border-top-color: var(--fill-color);\n",
              "      border-right-color: var(--fill-color);\n",
              "    }\n",
              "    40% {\n",
              "      border-color: transparent;\n",
              "      border-right-color: var(--fill-color);\n",
              "      border-top-color: var(--fill-color);\n",
              "    }\n",
              "    60% {\n",
              "      border-color: transparent;\n",
              "      border-right-color: var(--fill-color);\n",
              "    }\n",
              "    80% {\n",
              "      border-color: transparent;\n",
              "      border-right-color: var(--fill-color);\n",
              "      border-bottom-color: var(--fill-color);\n",
              "    }\n",
              "    90% {\n",
              "      border-color: transparent;\n",
              "      border-bottom-color: var(--fill-color);\n",
              "    }\n",
              "  }\n",
              "</style>\n",
              "\n",
              "  <script>\n",
              "    async function quickchart(key) {\n",
              "      const quickchartButtonEl =\n",
              "        document.querySelector('#' + key + ' button');\n",
              "      quickchartButtonEl.disabled = true;  // To prevent multiple clicks.\n",
              "      quickchartButtonEl.classList.add('colab-df-spinner');\n",
              "      try {\n",
              "        const charts = await google.colab.kernel.invokeFunction(\n",
              "            'suggestCharts', [key], {});\n",
              "      } catch (error) {\n",
              "        console.error('Error during call to suggestCharts:', error);\n",
              "      }\n",
              "      quickchartButtonEl.classList.remove('colab-df-spinner');\n",
              "      quickchartButtonEl.classList.add('colab-df-quickchart-complete');\n",
              "    }\n",
              "    (() => {\n",
              "      let quickchartButtonEl =\n",
              "        document.querySelector('#df-c981c80d-ea45-4e31-a729-2ba9d0c51344 button');\n",
              "      quickchartButtonEl.style.display =\n",
              "        google.colab.kernel.accessAllowed ? 'block' : 'none';\n",
              "    })();\n",
              "  </script>\n",
              "</div>\n",
              "\n",
              "    </div>\n",
              "  </div>\n"
            ],
            "application/vnd.google.colaboratory.intrinsic+json": {
              "type": "dataframe",
              "variable_name": "lines",
              "summary": "{\n  \"name\": \"lines\",\n  \"rows\": 25000,\n  \"fields\": [\n    {\n      \"column\": \"source\",\n      \"properties\": {\n        \"dtype\": \"category\",\n        \"num_unique_values\": 1,\n        \"samples\": [\n          \"ted\"\n        ],\n        \"semantic_type\": \"\",\n        \"description\": \"\"\n      }\n    },\n    {\n      \"column\": \"english_sentence\",\n      \"properties\": {\n        \"dtype\": \"string\",\n        \"num_unique_values\": 24905,\n        \"samples\": [\n          \"and that this suggests\"\n        ],\n        \"semantic_type\": \"\",\n        \"description\": \"\"\n      }\n    },\n    {\n      \"column\": \"hindi_sentence\",\n      \"properties\": {\n        \"dtype\": \"string\",\n        \"num_unique_values\": 24960,\n        \"samples\": [\n          \"START_ start \\u091c\\u093f\\u0938\\u0915\\u0940 \\u0915\\u0940\\u092e\\u0924 \\u0938\\u092e\\u093e\\u091c \\u0915\\u094b \\u091a\\u0941\\u0915\\u093e\\u0928\\u0940 \\u092a\\u0921\\u093c\\u0924\\u0940 \\u0939\\u0948 end _END\"\n        ],\n        \"semantic_type\": \"\",\n        \"description\": \"\"\n      }\n    },\n    {\n      \"column\": \"length_eng_sentence\",\n      \"properties\": {\n        \"dtype\": \"number\",\n        \"std\": 2,\n        \"min\": 1,\n        \"max\": 20,\n        \"num_unique_values\": 20,\n        \"samples\": [\n          4\n        ],\n        \"semantic_type\": \"\",\n        \"description\": \"\"\n      }\n    },\n    {\n      \"column\": \"length_hin_sentence\",\n      \"properties\": {\n        \"dtype\": \"number\",\n        \"std\": 3,\n        \"min\": 3,\n        \"max\": 20,\n        \"num_unique_values\": 18,\n        \"samples\": [\n          6\n        ],\n        \"semantic_type\": \"\",\n        \"description\": \"\"\n      }\n    }\n  ]\n}"
            }
          },
          "metadata": {},
          "execution_count": 55
        }
      ]
    },
    {
      "cell_type": "code",
      "source": [
        "### Get English and Hindi Vocabulary\n",
        "all_eng_words=set()\n",
        "for eng in lines['english_sentence']:\n",
        "    for word in eng.split():\n",
        "        if word not in all_eng_words:\n",
        "            all_eng_words.add(word)\n",
        "\n",
        "all_hindi_words=set()\n",
        "for hin in lines['hindi_sentence']:\n",
        "    for word in hin.split():\n",
        "        if word not in all_hindi_words:\n",
        "            all_hindi_words.add(word)"
      ],
      "metadata": {
        "id": "9zMy8F8_nz7_"
      },
      "execution_count": null,
      "outputs": []
    },
    {
      "cell_type": "code",
      "source": [
        "len(all_eng_words)"
      ],
      "metadata": {
        "colab": {
          "base_uri": "https://localhost:8080/"
        },
        "id": "7ujvqRlTn2v-",
        "outputId": "eed2bd0a-9abc-4e1a-c148-ae39d33a5def"
      },
      "execution_count": null,
      "outputs": [
        {
          "output_type": "execute_result",
          "data": {
            "text/plain": [
              "13948"
            ]
          },
          "metadata": {},
          "execution_count": 57
        }
      ]
    },
    {
      "cell_type": "code",
      "source": [
        "len(all_hindi_words)"
      ],
      "metadata": {
        "colab": {
          "base_uri": "https://localhost:8080/"
        },
        "id": "3MguZrN9n47a",
        "outputId": "9914c9e0-b69d-4224-933f-210bb0d9b3e7"
      },
      "execution_count": null,
      "outputs": [
        {
          "output_type": "execute_result",
          "data": {
            "text/plain": [
              "17539"
            ]
          },
          "metadata": {},
          "execution_count": 58
        }
      ]
    },
    {
      "cell_type": "code",
      "source": [
        "lines['length_eng_sentence']=lines['english_sentence'].apply(lambda x:len(x.split(\" \")))\n",
        "lines['length_hin_sentence']=lines['hindi_sentence'].apply(lambda x:len(x.split(\" \")))"
      ],
      "metadata": {
        "id": "KqhzfOk1n6_T"
      },
      "execution_count": null,
      "outputs": []
    },
    {
      "cell_type": "code",
      "source": [
        "lines.head()"
      ],
      "metadata": {
        "colab": {
          "base_uri": "https://localhost:8080/",
          "height": 206
        },
        "id": "0Js5tJcnn9NB",
        "outputId": "6b33adc0-1dcb-4e43-eb5d-63bb37e76145"
      },
      "execution_count": null,
      "outputs": [
        {
          "output_type": "execute_result",
          "data": {
            "text/plain": [
              "       source                                 english_sentence  \\\n",
              "11355     ted                      pranitha shaheen and anjali   \n",
              "104589    ted                    people were trying to do them   \n",
              "89468     ted                its very easy to lose perspective   \n",
              "92165     ted                                to take the photo   \n",
              "79264     ted  to sound its music in the ear and on the tongue   \n",
              "\n",
              "                                           hindi_sentence  \\\n",
              "11355        START_ start प्रणिता शाहीन और अंजलि end _END   \n",
              "104589          START_ start लोग कोशिश कर रहे थे end _END   \n",
              "89468   START_ start तो अपना आपा खोना बहुत आसान होता ह...   \n",
              "92165                START_ start इस फोटो के लिए end _END   \n",
              "79264   START_ start ताकि इसका संगीत कानों और ज़बान को...   \n",
              "\n",
              "        length_eng_sentence  length_hin_sentence  \n",
              "11355                     4                    8  \n",
              "104589                    6                    9  \n",
              "89468                     6                   12  \n",
              "92165                     4                    8  \n",
              "79264                    11                   13  "
            ],
            "text/html": [
              "\n",
              "  <div id=\"df-b96be3a9-d219-46d0-856d-d251d83b9160\" class=\"colab-df-container\">\n",
              "    <div>\n",
              "<style scoped>\n",
              "    .dataframe tbody tr th:only-of-type {\n",
              "        vertical-align: middle;\n",
              "    }\n",
              "\n",
              "    .dataframe tbody tr th {\n",
              "        vertical-align: top;\n",
              "    }\n",
              "\n",
              "    .dataframe thead th {\n",
              "        text-align: right;\n",
              "    }\n",
              "</style>\n",
              "<table border=\"1\" class=\"dataframe\">\n",
              "  <thead>\n",
              "    <tr style=\"text-align: right;\">\n",
              "      <th></th>\n",
              "      <th>source</th>\n",
              "      <th>english_sentence</th>\n",
              "      <th>hindi_sentence</th>\n",
              "      <th>length_eng_sentence</th>\n",
              "      <th>length_hin_sentence</th>\n",
              "    </tr>\n",
              "  </thead>\n",
              "  <tbody>\n",
              "    <tr>\n",
              "      <th>11355</th>\n",
              "      <td>ted</td>\n",
              "      <td>pranitha shaheen and anjali</td>\n",
              "      <td>START_ start प्रणिता शाहीन और अंजलि end _END</td>\n",
              "      <td>4</td>\n",
              "      <td>8</td>\n",
              "    </tr>\n",
              "    <tr>\n",
              "      <th>104589</th>\n",
              "      <td>ted</td>\n",
              "      <td>people were trying to do them</td>\n",
              "      <td>START_ start लोग कोशिश कर रहे थे end _END</td>\n",
              "      <td>6</td>\n",
              "      <td>9</td>\n",
              "    </tr>\n",
              "    <tr>\n",
              "      <th>89468</th>\n",
              "      <td>ted</td>\n",
              "      <td>its very easy to lose perspective</td>\n",
              "      <td>START_ start तो अपना आपा खोना बहुत आसान होता ह...</td>\n",
              "      <td>6</td>\n",
              "      <td>12</td>\n",
              "    </tr>\n",
              "    <tr>\n",
              "      <th>92165</th>\n",
              "      <td>ted</td>\n",
              "      <td>to take the photo</td>\n",
              "      <td>START_ start इस फोटो के लिए end _END</td>\n",
              "      <td>4</td>\n",
              "      <td>8</td>\n",
              "    </tr>\n",
              "    <tr>\n",
              "      <th>79264</th>\n",
              "      <td>ted</td>\n",
              "      <td>to sound its music in the ear and on the tongue</td>\n",
              "      <td>START_ start ताकि इसका संगीत कानों और ज़बान को...</td>\n",
              "      <td>11</td>\n",
              "      <td>13</td>\n",
              "    </tr>\n",
              "  </tbody>\n",
              "</table>\n",
              "</div>\n",
              "    <div class=\"colab-df-buttons\">\n",
              "\n",
              "  <div class=\"colab-df-container\">\n",
              "    <button class=\"colab-df-convert\" onclick=\"convertToInteractive('df-b96be3a9-d219-46d0-856d-d251d83b9160')\"\n",
              "            title=\"Convert this dataframe to an interactive table.\"\n",
              "            style=\"display:none;\">\n",
              "\n",
              "  <svg xmlns=\"http://www.w3.org/2000/svg\" height=\"24px\" viewBox=\"0 -960 960 960\">\n",
              "    <path d=\"M120-120v-720h720v720H120Zm60-500h600v-160H180v160Zm220 220h160v-160H400v160Zm0 220h160v-160H400v160ZM180-400h160v-160H180v160Zm440 0h160v-160H620v160ZM180-180h160v-160H180v160Zm440 0h160v-160H620v160Z\"/>\n",
              "  </svg>\n",
              "    </button>\n",
              "\n",
              "  <style>\n",
              "    .colab-df-container {\n",
              "      display:flex;\n",
              "      gap: 12px;\n",
              "    }\n",
              "\n",
              "    .colab-df-convert {\n",
              "      background-color: #E8F0FE;\n",
              "      border: none;\n",
              "      border-radius: 50%;\n",
              "      cursor: pointer;\n",
              "      display: none;\n",
              "      fill: #1967D2;\n",
              "      height: 32px;\n",
              "      padding: 0 0 0 0;\n",
              "      width: 32px;\n",
              "    }\n",
              "\n",
              "    .colab-df-convert:hover {\n",
              "      background-color: #E2EBFA;\n",
              "      box-shadow: 0px 1px 2px rgba(60, 64, 67, 0.3), 0px 1px 3px 1px rgba(60, 64, 67, 0.15);\n",
              "      fill: #174EA6;\n",
              "    }\n",
              "\n",
              "    .colab-df-buttons div {\n",
              "      margin-bottom: 4px;\n",
              "    }\n",
              "\n",
              "    [theme=dark] .colab-df-convert {\n",
              "      background-color: #3B4455;\n",
              "      fill: #D2E3FC;\n",
              "    }\n",
              "\n",
              "    [theme=dark] .colab-df-convert:hover {\n",
              "      background-color: #434B5C;\n",
              "      box-shadow: 0px 1px 3px 1px rgba(0, 0, 0, 0.15);\n",
              "      filter: drop-shadow(0px 1px 2px rgba(0, 0, 0, 0.3));\n",
              "      fill: #FFFFFF;\n",
              "    }\n",
              "  </style>\n",
              "\n",
              "    <script>\n",
              "      const buttonEl =\n",
              "        document.querySelector('#df-b96be3a9-d219-46d0-856d-d251d83b9160 button.colab-df-convert');\n",
              "      buttonEl.style.display =\n",
              "        google.colab.kernel.accessAllowed ? 'block' : 'none';\n",
              "\n",
              "      async function convertToInteractive(key) {\n",
              "        const element = document.querySelector('#df-b96be3a9-d219-46d0-856d-d251d83b9160');\n",
              "        const dataTable =\n",
              "          await google.colab.kernel.invokeFunction('convertToInteractive',\n",
              "                                                    [key], {});\n",
              "        if (!dataTable) return;\n",
              "\n",
              "        const docLinkHtml = 'Like what you see? Visit the ' +\n",
              "          '<a target=\"_blank\" href=https://colab.research.google.com/notebooks/data_table.ipynb>data table notebook</a>'\n",
              "          + ' to learn more about interactive tables.';\n",
              "        element.innerHTML = '';\n",
              "        dataTable['output_type'] = 'display_data';\n",
              "        await google.colab.output.renderOutput(dataTable, element);\n",
              "        const docLink = document.createElement('div');\n",
              "        docLink.innerHTML = docLinkHtml;\n",
              "        element.appendChild(docLink);\n",
              "      }\n",
              "    </script>\n",
              "  </div>\n",
              "\n",
              "\n",
              "<div id=\"df-5482be8e-5704-4b73-84ce-4a29d3ece95b\">\n",
              "  <button class=\"colab-df-quickchart\" onclick=\"quickchart('df-5482be8e-5704-4b73-84ce-4a29d3ece95b')\"\n",
              "            title=\"Suggest charts\"\n",
              "            style=\"display:none;\">\n",
              "\n",
              "<svg xmlns=\"http://www.w3.org/2000/svg\" height=\"24px\"viewBox=\"0 0 24 24\"\n",
              "     width=\"24px\">\n",
              "    <g>\n",
              "        <path d=\"M19 3H5c-1.1 0-2 .9-2 2v14c0 1.1.9 2 2 2h14c1.1 0 2-.9 2-2V5c0-1.1-.9-2-2-2zM9 17H7v-7h2v7zm4 0h-2V7h2v10zm4 0h-2v-4h2v4z\"/>\n",
              "    </g>\n",
              "</svg>\n",
              "  </button>\n",
              "\n",
              "<style>\n",
              "  .colab-df-quickchart {\n",
              "      --bg-color: #E8F0FE;\n",
              "      --fill-color: #1967D2;\n",
              "      --hover-bg-color: #E2EBFA;\n",
              "      --hover-fill-color: #174EA6;\n",
              "      --disabled-fill-color: #AAA;\n",
              "      --disabled-bg-color: #DDD;\n",
              "  }\n",
              "\n",
              "  [theme=dark] .colab-df-quickchart {\n",
              "      --bg-color: #3B4455;\n",
              "      --fill-color: #D2E3FC;\n",
              "      --hover-bg-color: #434B5C;\n",
              "      --hover-fill-color: #FFFFFF;\n",
              "      --disabled-bg-color: #3B4455;\n",
              "      --disabled-fill-color: #666;\n",
              "  }\n",
              "\n",
              "  .colab-df-quickchart {\n",
              "    background-color: var(--bg-color);\n",
              "    border: none;\n",
              "    border-radius: 50%;\n",
              "    cursor: pointer;\n",
              "    display: none;\n",
              "    fill: var(--fill-color);\n",
              "    height: 32px;\n",
              "    padding: 0;\n",
              "    width: 32px;\n",
              "  }\n",
              "\n",
              "  .colab-df-quickchart:hover {\n",
              "    background-color: var(--hover-bg-color);\n",
              "    box-shadow: 0 1px 2px rgba(60, 64, 67, 0.3), 0 1px 3px 1px rgba(60, 64, 67, 0.15);\n",
              "    fill: var(--button-hover-fill-color);\n",
              "  }\n",
              "\n",
              "  .colab-df-quickchart-complete:disabled,\n",
              "  .colab-df-quickchart-complete:disabled:hover {\n",
              "    background-color: var(--disabled-bg-color);\n",
              "    fill: var(--disabled-fill-color);\n",
              "    box-shadow: none;\n",
              "  }\n",
              "\n",
              "  .colab-df-spinner {\n",
              "    border: 2px solid var(--fill-color);\n",
              "    border-color: transparent;\n",
              "    border-bottom-color: var(--fill-color);\n",
              "    animation:\n",
              "      spin 1s steps(1) infinite;\n",
              "  }\n",
              "\n",
              "  @keyframes spin {\n",
              "    0% {\n",
              "      border-color: transparent;\n",
              "      border-bottom-color: var(--fill-color);\n",
              "      border-left-color: var(--fill-color);\n",
              "    }\n",
              "    20% {\n",
              "      border-color: transparent;\n",
              "      border-left-color: var(--fill-color);\n",
              "      border-top-color: var(--fill-color);\n",
              "    }\n",
              "    30% {\n",
              "      border-color: transparent;\n",
              "      border-left-color: var(--fill-color);\n",
              "      border-top-color: var(--fill-color);\n",
              "      border-right-color: var(--fill-color);\n",
              "    }\n",
              "    40% {\n",
              "      border-color: transparent;\n",
              "      border-right-color: var(--fill-color);\n",
              "      border-top-color: var(--fill-color);\n",
              "    }\n",
              "    60% {\n",
              "      border-color: transparent;\n",
              "      border-right-color: var(--fill-color);\n",
              "    }\n",
              "    80% {\n",
              "      border-color: transparent;\n",
              "      border-right-color: var(--fill-color);\n",
              "      border-bottom-color: var(--fill-color);\n",
              "    }\n",
              "    90% {\n",
              "      border-color: transparent;\n",
              "      border-bottom-color: var(--fill-color);\n",
              "    }\n",
              "  }\n",
              "</style>\n",
              "\n",
              "  <script>\n",
              "    async function quickchart(key) {\n",
              "      const quickchartButtonEl =\n",
              "        document.querySelector('#' + key + ' button');\n",
              "      quickchartButtonEl.disabled = true;  // To prevent multiple clicks.\n",
              "      quickchartButtonEl.classList.add('colab-df-spinner');\n",
              "      try {\n",
              "        const charts = await google.colab.kernel.invokeFunction(\n",
              "            'suggestCharts', [key], {});\n",
              "      } catch (error) {\n",
              "        console.error('Error during call to suggestCharts:', error);\n",
              "      }\n",
              "      quickchartButtonEl.classList.remove('colab-df-spinner');\n",
              "      quickchartButtonEl.classList.add('colab-df-quickchart-complete');\n",
              "    }\n",
              "    (() => {\n",
              "      let quickchartButtonEl =\n",
              "        document.querySelector('#df-5482be8e-5704-4b73-84ce-4a29d3ece95b button');\n",
              "      quickchartButtonEl.style.display =\n",
              "        google.colab.kernel.accessAllowed ? 'block' : 'none';\n",
              "    })();\n",
              "  </script>\n",
              "</div>\n",
              "\n",
              "    </div>\n",
              "  </div>\n"
            ],
            "application/vnd.google.colaboratory.intrinsic+json": {
              "type": "dataframe",
              "variable_name": "lines",
              "summary": "{\n  \"name\": \"lines\",\n  \"rows\": 25000,\n  \"fields\": [\n    {\n      \"column\": \"source\",\n      \"properties\": {\n        \"dtype\": \"category\",\n        \"num_unique_values\": 1,\n        \"samples\": [\n          \"ted\"\n        ],\n        \"semantic_type\": \"\",\n        \"description\": \"\"\n      }\n    },\n    {\n      \"column\": \"english_sentence\",\n      \"properties\": {\n        \"dtype\": \"string\",\n        \"num_unique_values\": 24905,\n        \"samples\": [\n          \"and that this suggests\"\n        ],\n        \"semantic_type\": \"\",\n        \"description\": \"\"\n      }\n    },\n    {\n      \"column\": \"hindi_sentence\",\n      \"properties\": {\n        \"dtype\": \"string\",\n        \"num_unique_values\": 24960,\n        \"samples\": [\n          \"START_ start \\u091c\\u093f\\u0938\\u0915\\u0940 \\u0915\\u0940\\u092e\\u0924 \\u0938\\u092e\\u093e\\u091c \\u0915\\u094b \\u091a\\u0941\\u0915\\u093e\\u0928\\u0940 \\u092a\\u0921\\u093c\\u0924\\u0940 \\u0939\\u0948 end _END\"\n        ],\n        \"semantic_type\": \"\",\n        \"description\": \"\"\n      }\n    },\n    {\n      \"column\": \"length_eng_sentence\",\n      \"properties\": {\n        \"dtype\": \"number\",\n        \"std\": 2,\n        \"min\": 1,\n        \"max\": 20,\n        \"num_unique_values\": 20,\n        \"samples\": [\n          4\n        ],\n        \"semantic_type\": \"\",\n        \"description\": \"\"\n      }\n    },\n    {\n      \"column\": \"length_hin_sentence\",\n      \"properties\": {\n        \"dtype\": \"number\",\n        \"std\": 3,\n        \"min\": 4,\n        \"max\": 22,\n        \"num_unique_values\": 19,\n        \"samples\": [\n          8\n        ],\n        \"semantic_type\": \"\",\n        \"description\": \"\"\n      }\n    }\n  ]\n}"
            }
          },
          "metadata": {},
          "execution_count": 60
        }
      ]
    },
    {
      "cell_type": "code",
      "source": [
        "lines[lines['length_eng_sentence']>30].shape"
      ],
      "metadata": {
        "colab": {
          "base_uri": "https://localhost:8080/"
        },
        "id": "XJWrg8vUn_S2",
        "outputId": "42d9bfb8-5240-4450-dbf4-913dc0c2f015"
      },
      "execution_count": null,
      "outputs": [
        {
          "output_type": "execute_result",
          "data": {
            "text/plain": [
              "(0, 5)"
            ]
          },
          "metadata": {},
          "execution_count": 61
        }
      ]
    },
    {
      "cell_type": "code",
      "source": [
        "lines=lines[lines['length_eng_sentence']<=20]\n",
        "lines=lines[lines['length_hin_sentence']<=20]"
      ],
      "metadata": {
        "id": "Nn-TEMzUoC89"
      },
      "execution_count": null,
      "outputs": []
    },
    {
      "cell_type": "code",
      "source": [
        "lines.shape"
      ],
      "metadata": {
        "colab": {
          "base_uri": "https://localhost:8080/"
        },
        "id": "_TW9nOAYoE3v",
        "outputId": "05fd5abd-ce23-40f2-aa4a-5c087db3ba47"
      },
      "execution_count": null,
      "outputs": [
        {
          "output_type": "execute_result",
          "data": {
            "text/plain": [
              "(24585, 5)"
            ]
          },
          "metadata": {},
          "execution_count": 63
        }
      ]
    },
    {
      "cell_type": "code",
      "source": [
        "print(\"maximum length of Hindi Sentence \",max(lines['length_hin_sentence']))\n",
        "print(\"maximum length of English Sentence \",max(lines['length_eng_sentence']))"
      ],
      "metadata": {
        "colab": {
          "base_uri": "https://localhost:8080/"
        },
        "id": "vt_T736soHH7",
        "outputId": "6dd16e76-8358-4101-823b-40125810221c"
      },
      "execution_count": null,
      "outputs": [
        {
          "output_type": "stream",
          "name": "stdout",
          "text": [
            "maximum length of Hindi Sentence  20\n",
            "maximum length of English Sentence  20\n"
          ]
        }
      ]
    },
    {
      "cell_type": "code",
      "source": [
        "max_length_src=max(lines['length_hin_sentence'])\n",
        "max_length_tar=max(lines['length_eng_sentence'])"
      ],
      "metadata": {
        "id": "Gp20jmM1oLQH"
      },
      "execution_count": null,
      "outputs": []
    },
    {
      "cell_type": "code",
      "source": [
        "input_words = sorted(list(all_eng_words))\n",
        "target_words = sorted(list(all_hindi_words))\n",
        "num_encoder_tokens = len(all_eng_words)\n",
        "num_decoder_tokens = len(all_hindi_words)\n",
        "num_encoder_tokens, num_decoder_tokens"
      ],
      "metadata": {
        "colab": {
          "base_uri": "https://localhost:8080/"
        },
        "id": "QMoZlzl_oNuO",
        "outputId": "24a1a94d-50ba-4c27-cfc8-abd7febad44f"
      },
      "execution_count": null,
      "outputs": [
        {
          "output_type": "execute_result",
          "data": {
            "text/plain": [
              "(13948, 17539)"
            ]
          },
          "metadata": {},
          "execution_count": 66
        }
      ]
    },
    {
      "cell_type": "code",
      "source": [
        "\n",
        "num_decoder_tokens += 1 #for zero padding"
      ],
      "metadata": {
        "id": "RPcP4eH6oQXF"
      },
      "execution_count": null,
      "outputs": []
    },
    {
      "cell_type": "code",
      "source": [
        "input_token_index = dict([(word, i+1) for i, word in enumerate(input_words)])\n",
        "target_token_index = dict([(word, i+1) for i, word in enumerate(target_words)])"
      ],
      "metadata": {
        "id": "-5q0ypmOoS87"
      },
      "execution_count": null,
      "outputs": []
    },
    {
      "cell_type": "code",
      "source": [
        "reverse_input_char_index = dict((i, word) for word, i in input_token_index.items())\n",
        "reverse_target_char_index = dict((i, word) for word, i in target_token_index.items())"
      ],
      "metadata": {
        "id": "KZBJTSndoVQx"
      },
      "execution_count": null,
      "outputs": []
    },
    {
      "cell_type": "code",
      "source": [
        "lines = shuffle(lines)\n",
        "lines.head(10)"
      ],
      "metadata": {
        "colab": {
          "base_uri": "https://localhost:8080/",
          "height": 363
        },
        "id": "RnZ5E4n8oXk4",
        "outputId": "a856a321-5270-47bd-9765-3d9be2069b11"
      },
      "execution_count": null,
      "outputs": [
        {
          "output_type": "execute_result",
          "data": {
            "text/plain": [
              "       source                                   english_sentence  \\\n",
              "61228     ted    breast cancer for the love of lebanon for peace   \n",
              "38735     ted                      so the empire can strike back   \n",
              "1521      ted                                     that if nectar   \n",
              "45887     ted                     what we see changes who we are   \n",
              "102726    ted                    and so netflix has gone through   \n",
              "112391    ted  and there are lots of physical parameters that...   \n",
              "64393     ted  as people use it and whose benefits become gre...   \n",
              "79818     ted                this idea of compassion comes to us   \n",
              "90523     ted          and why what is wrong with his underwear”   \n",
              "48695     ted         inside they are selling for pounds dollars   \n",
              "\n",
              "                                           hindi_sentence  \\\n",
              "61228   START_ start स्तन कैंसर लेबनान के प्यार के लिए...   \n",
              "38735   START_ start तो अब साम्राज्य जवाबी हमला कर सकत...   \n",
              "1521                       START_ start अगर पराग end _END   \n",
              "45887   START_ start जो हम देखते हैं वो हमें बदल डालता...   \n",
              "102726   START_ start और नेत्फ्लिक्स ने देखे हैं end _END   \n",
              "112391  START_ start और बहुत सारे भौतिक मापदंड हैं जो ...   \n",
              "64393   START_ start और लोगों के लिये प्रयोग करने के ब...   \n",
              "79818    START_ start हमें करुणा का विचार आता है end _END   \n",
              "90523   START_ start और किसलिए क्या खराबी है उनके कच्छ...   \n",
              "48695   START_ start ये लोग सौ दो सौ गुना ज़्यादा महँग...   \n",
              "\n",
              "        length_eng_sentence  length_hin_sentence  \n",
              "61228                     9                   14  \n",
              "38735                     6                   12  \n",
              "1521                      3                    6  \n",
              "45887                     7                   13  \n",
              "102726                    6                    9  \n",
              "112391                    9                   13  \n",
              "64393                     9                   12  \n",
              "79818                     7                   10  \n",
              "90523                     8                   12  \n",
              "48695                     7                   15  "
            ],
            "text/html": [
              "\n",
              "  <div id=\"df-48bafc2b-445f-422b-bdbe-eb80151a6195\" class=\"colab-df-container\">\n",
              "    <div>\n",
              "<style scoped>\n",
              "    .dataframe tbody tr th:only-of-type {\n",
              "        vertical-align: middle;\n",
              "    }\n",
              "\n",
              "    .dataframe tbody tr th {\n",
              "        vertical-align: top;\n",
              "    }\n",
              "\n",
              "    .dataframe thead th {\n",
              "        text-align: right;\n",
              "    }\n",
              "</style>\n",
              "<table border=\"1\" class=\"dataframe\">\n",
              "  <thead>\n",
              "    <tr style=\"text-align: right;\">\n",
              "      <th></th>\n",
              "      <th>source</th>\n",
              "      <th>english_sentence</th>\n",
              "      <th>hindi_sentence</th>\n",
              "      <th>length_eng_sentence</th>\n",
              "      <th>length_hin_sentence</th>\n",
              "    </tr>\n",
              "  </thead>\n",
              "  <tbody>\n",
              "    <tr>\n",
              "      <th>61228</th>\n",
              "      <td>ted</td>\n",
              "      <td>breast cancer for the love of lebanon for peace</td>\n",
              "      <td>START_ start स्तन कैंसर लेबनान के प्यार के लिए...</td>\n",
              "      <td>9</td>\n",
              "      <td>14</td>\n",
              "    </tr>\n",
              "    <tr>\n",
              "      <th>38735</th>\n",
              "      <td>ted</td>\n",
              "      <td>so the empire can strike back</td>\n",
              "      <td>START_ start तो अब साम्राज्य जवाबी हमला कर सकत...</td>\n",
              "      <td>6</td>\n",
              "      <td>12</td>\n",
              "    </tr>\n",
              "    <tr>\n",
              "      <th>1521</th>\n",
              "      <td>ted</td>\n",
              "      <td>that if nectar</td>\n",
              "      <td>START_ start अगर पराग end _END</td>\n",
              "      <td>3</td>\n",
              "      <td>6</td>\n",
              "    </tr>\n",
              "    <tr>\n",
              "      <th>45887</th>\n",
              "      <td>ted</td>\n",
              "      <td>what we see changes who we are</td>\n",
              "      <td>START_ start जो हम देखते हैं वो हमें बदल डालता...</td>\n",
              "      <td>7</td>\n",
              "      <td>13</td>\n",
              "    </tr>\n",
              "    <tr>\n",
              "      <th>102726</th>\n",
              "      <td>ted</td>\n",
              "      <td>and so netflix has gone through</td>\n",
              "      <td>START_ start और नेत्फ्लिक्स ने देखे हैं end _END</td>\n",
              "      <td>6</td>\n",
              "      <td>9</td>\n",
              "    </tr>\n",
              "    <tr>\n",
              "      <th>112391</th>\n",
              "      <td>ted</td>\n",
              "      <td>and there are lots of physical parameters that...</td>\n",
              "      <td>START_ start और बहुत सारे भौतिक मापदंड हैं जो ...</td>\n",
              "      <td>9</td>\n",
              "      <td>13</td>\n",
              "    </tr>\n",
              "    <tr>\n",
              "      <th>64393</th>\n",
              "      <td>ted</td>\n",
              "      <td>as people use it and whose benefits become gre...</td>\n",
              "      <td>START_ start और लोगों के लिये प्रयोग करने के ब...</td>\n",
              "      <td>9</td>\n",
              "      <td>12</td>\n",
              "    </tr>\n",
              "    <tr>\n",
              "      <th>79818</th>\n",
              "      <td>ted</td>\n",
              "      <td>this idea of compassion comes to us</td>\n",
              "      <td>START_ start हमें करुणा का विचार आता है end _END</td>\n",
              "      <td>7</td>\n",
              "      <td>10</td>\n",
              "    </tr>\n",
              "    <tr>\n",
              "      <th>90523</th>\n",
              "      <td>ted</td>\n",
              "      <td>and why what is wrong with his underwear”</td>\n",
              "      <td>START_ start और किसलिए क्या खराबी है उनके कच्छ...</td>\n",
              "      <td>8</td>\n",
              "      <td>12</td>\n",
              "    </tr>\n",
              "    <tr>\n",
              "      <th>48695</th>\n",
              "      <td>ted</td>\n",
              "      <td>inside they are selling for pounds dollars</td>\n",
              "      <td>START_ start ये लोग सौ दो सौ गुना ज़्यादा महँग...</td>\n",
              "      <td>7</td>\n",
              "      <td>15</td>\n",
              "    </tr>\n",
              "  </tbody>\n",
              "</table>\n",
              "</div>\n",
              "    <div class=\"colab-df-buttons\">\n",
              "\n",
              "  <div class=\"colab-df-container\">\n",
              "    <button class=\"colab-df-convert\" onclick=\"convertToInteractive('df-48bafc2b-445f-422b-bdbe-eb80151a6195')\"\n",
              "            title=\"Convert this dataframe to an interactive table.\"\n",
              "            style=\"display:none;\">\n",
              "\n",
              "  <svg xmlns=\"http://www.w3.org/2000/svg\" height=\"24px\" viewBox=\"0 -960 960 960\">\n",
              "    <path d=\"M120-120v-720h720v720H120Zm60-500h600v-160H180v160Zm220 220h160v-160H400v160Zm0 220h160v-160H400v160ZM180-400h160v-160H180v160Zm440 0h160v-160H620v160ZM180-180h160v-160H180v160Zm440 0h160v-160H620v160Z\"/>\n",
              "  </svg>\n",
              "    </button>\n",
              "\n",
              "  <style>\n",
              "    .colab-df-container {\n",
              "      display:flex;\n",
              "      gap: 12px;\n",
              "    }\n",
              "\n",
              "    .colab-df-convert {\n",
              "      background-color: #E8F0FE;\n",
              "      border: none;\n",
              "      border-radius: 50%;\n",
              "      cursor: pointer;\n",
              "      display: none;\n",
              "      fill: #1967D2;\n",
              "      height: 32px;\n",
              "      padding: 0 0 0 0;\n",
              "      width: 32px;\n",
              "    }\n",
              "\n",
              "    .colab-df-convert:hover {\n",
              "      background-color: #E2EBFA;\n",
              "      box-shadow: 0px 1px 2px rgba(60, 64, 67, 0.3), 0px 1px 3px 1px rgba(60, 64, 67, 0.15);\n",
              "      fill: #174EA6;\n",
              "    }\n",
              "\n",
              "    .colab-df-buttons div {\n",
              "      margin-bottom: 4px;\n",
              "    }\n",
              "\n",
              "    [theme=dark] .colab-df-convert {\n",
              "      background-color: #3B4455;\n",
              "      fill: #D2E3FC;\n",
              "    }\n",
              "\n",
              "    [theme=dark] .colab-df-convert:hover {\n",
              "      background-color: #434B5C;\n",
              "      box-shadow: 0px 1px 3px 1px rgba(0, 0, 0, 0.15);\n",
              "      filter: drop-shadow(0px 1px 2px rgba(0, 0, 0, 0.3));\n",
              "      fill: #FFFFFF;\n",
              "    }\n",
              "  </style>\n",
              "\n",
              "    <script>\n",
              "      const buttonEl =\n",
              "        document.querySelector('#df-48bafc2b-445f-422b-bdbe-eb80151a6195 button.colab-df-convert');\n",
              "      buttonEl.style.display =\n",
              "        google.colab.kernel.accessAllowed ? 'block' : 'none';\n",
              "\n",
              "      async function convertToInteractive(key) {\n",
              "        const element = document.querySelector('#df-48bafc2b-445f-422b-bdbe-eb80151a6195');\n",
              "        const dataTable =\n",
              "          await google.colab.kernel.invokeFunction('convertToInteractive',\n",
              "                                                    [key], {});\n",
              "        if (!dataTable) return;\n",
              "\n",
              "        const docLinkHtml = 'Like what you see? Visit the ' +\n",
              "          '<a target=\"_blank\" href=https://colab.research.google.com/notebooks/data_table.ipynb>data table notebook</a>'\n",
              "          + ' to learn more about interactive tables.';\n",
              "        element.innerHTML = '';\n",
              "        dataTable['output_type'] = 'display_data';\n",
              "        await google.colab.output.renderOutput(dataTable, element);\n",
              "        const docLink = document.createElement('div');\n",
              "        docLink.innerHTML = docLinkHtml;\n",
              "        element.appendChild(docLink);\n",
              "      }\n",
              "    </script>\n",
              "  </div>\n",
              "\n",
              "\n",
              "<div id=\"df-31acd5f1-f098-45bb-b9eb-ab7d5b2b53b4\">\n",
              "  <button class=\"colab-df-quickchart\" onclick=\"quickchart('df-31acd5f1-f098-45bb-b9eb-ab7d5b2b53b4')\"\n",
              "            title=\"Suggest charts\"\n",
              "            style=\"display:none;\">\n",
              "\n",
              "<svg xmlns=\"http://www.w3.org/2000/svg\" height=\"24px\"viewBox=\"0 0 24 24\"\n",
              "     width=\"24px\">\n",
              "    <g>\n",
              "        <path d=\"M19 3H5c-1.1 0-2 .9-2 2v14c0 1.1.9 2 2 2h14c1.1 0 2-.9 2-2V5c0-1.1-.9-2-2-2zM9 17H7v-7h2v7zm4 0h-2V7h2v10zm4 0h-2v-4h2v4z\"/>\n",
              "    </g>\n",
              "</svg>\n",
              "  </button>\n",
              "\n",
              "<style>\n",
              "  .colab-df-quickchart {\n",
              "      --bg-color: #E8F0FE;\n",
              "      --fill-color: #1967D2;\n",
              "      --hover-bg-color: #E2EBFA;\n",
              "      --hover-fill-color: #174EA6;\n",
              "      --disabled-fill-color: #AAA;\n",
              "      --disabled-bg-color: #DDD;\n",
              "  }\n",
              "\n",
              "  [theme=dark] .colab-df-quickchart {\n",
              "      --bg-color: #3B4455;\n",
              "      --fill-color: #D2E3FC;\n",
              "      --hover-bg-color: #434B5C;\n",
              "      --hover-fill-color: #FFFFFF;\n",
              "      --disabled-bg-color: #3B4455;\n",
              "      --disabled-fill-color: #666;\n",
              "  }\n",
              "\n",
              "  .colab-df-quickchart {\n",
              "    background-color: var(--bg-color);\n",
              "    border: none;\n",
              "    border-radius: 50%;\n",
              "    cursor: pointer;\n",
              "    display: none;\n",
              "    fill: var(--fill-color);\n",
              "    height: 32px;\n",
              "    padding: 0;\n",
              "    width: 32px;\n",
              "  }\n",
              "\n",
              "  .colab-df-quickchart:hover {\n",
              "    background-color: var(--hover-bg-color);\n",
              "    box-shadow: 0 1px 2px rgba(60, 64, 67, 0.3), 0 1px 3px 1px rgba(60, 64, 67, 0.15);\n",
              "    fill: var(--button-hover-fill-color);\n",
              "  }\n",
              "\n",
              "  .colab-df-quickchart-complete:disabled,\n",
              "  .colab-df-quickchart-complete:disabled:hover {\n",
              "    background-color: var(--disabled-bg-color);\n",
              "    fill: var(--disabled-fill-color);\n",
              "    box-shadow: none;\n",
              "  }\n",
              "\n",
              "  .colab-df-spinner {\n",
              "    border: 2px solid var(--fill-color);\n",
              "    border-color: transparent;\n",
              "    border-bottom-color: var(--fill-color);\n",
              "    animation:\n",
              "      spin 1s steps(1) infinite;\n",
              "  }\n",
              "\n",
              "  @keyframes spin {\n",
              "    0% {\n",
              "      border-color: transparent;\n",
              "      border-bottom-color: var(--fill-color);\n",
              "      border-left-color: var(--fill-color);\n",
              "    }\n",
              "    20% {\n",
              "      border-color: transparent;\n",
              "      border-left-color: var(--fill-color);\n",
              "      border-top-color: var(--fill-color);\n",
              "    }\n",
              "    30% {\n",
              "      border-color: transparent;\n",
              "      border-left-color: var(--fill-color);\n",
              "      border-top-color: var(--fill-color);\n",
              "      border-right-color: var(--fill-color);\n",
              "    }\n",
              "    40% {\n",
              "      border-color: transparent;\n",
              "      border-right-color: var(--fill-color);\n",
              "      border-top-color: var(--fill-color);\n",
              "    }\n",
              "    60% {\n",
              "      border-color: transparent;\n",
              "      border-right-color: var(--fill-color);\n",
              "    }\n",
              "    80% {\n",
              "      border-color: transparent;\n",
              "      border-right-color: var(--fill-color);\n",
              "      border-bottom-color: var(--fill-color);\n",
              "    }\n",
              "    90% {\n",
              "      border-color: transparent;\n",
              "      border-bottom-color: var(--fill-color);\n",
              "    }\n",
              "  }\n",
              "</style>\n",
              "\n",
              "  <script>\n",
              "    async function quickchart(key) {\n",
              "      const quickchartButtonEl =\n",
              "        document.querySelector('#' + key + ' button');\n",
              "      quickchartButtonEl.disabled = true;  // To prevent multiple clicks.\n",
              "      quickchartButtonEl.classList.add('colab-df-spinner');\n",
              "      try {\n",
              "        const charts = await google.colab.kernel.invokeFunction(\n",
              "            'suggestCharts', [key], {});\n",
              "      } catch (error) {\n",
              "        console.error('Error during call to suggestCharts:', error);\n",
              "      }\n",
              "      quickchartButtonEl.classList.remove('colab-df-spinner');\n",
              "      quickchartButtonEl.classList.add('colab-df-quickchart-complete');\n",
              "    }\n",
              "    (() => {\n",
              "      let quickchartButtonEl =\n",
              "        document.querySelector('#df-31acd5f1-f098-45bb-b9eb-ab7d5b2b53b4 button');\n",
              "      quickchartButtonEl.style.display =\n",
              "        google.colab.kernel.accessAllowed ? 'block' : 'none';\n",
              "    })();\n",
              "  </script>\n",
              "</div>\n",
              "\n",
              "    </div>\n",
              "  </div>\n"
            ],
            "application/vnd.google.colaboratory.intrinsic+json": {
              "type": "dataframe",
              "variable_name": "lines",
              "summary": "{\n  \"name\": \"lines\",\n  \"rows\": 24585,\n  \"fields\": [\n    {\n      \"column\": \"source\",\n      \"properties\": {\n        \"dtype\": \"category\",\n        \"num_unique_values\": 1,\n        \"samples\": [\n          \"ted\"\n        ],\n        \"semantic_type\": \"\",\n        \"description\": \"\"\n      }\n    },\n    {\n      \"column\": \"english_sentence\",\n      \"properties\": {\n        \"dtype\": \"string\",\n        \"num_unique_values\": 24490,\n        \"samples\": [\n          \"by measuring their student smiles\"\n        ],\n        \"semantic_type\": \"\",\n        \"description\": \"\"\n      }\n    },\n    {\n      \"column\": \"hindi_sentence\",\n      \"properties\": {\n        \"dtype\": \"string\",\n        \"num_unique_values\": 24545,\n        \"samples\": [\n          \"START_ start \\u090f\\u0915 \\u092e\\u0928\\u094b\\u0935\\u0948\\u091c\\u094d\\u091e\\u093e\\u0928\\u0940 \\u0915\\u0947 \\u0924\\u094c\\u0930 \\u092a\\u0930 \\u092e\\u0948\\u0902 \\u091a\\u093f\\u0902\\u0924\\u093f\\u0924 end _END\"\n        ],\n        \"semantic_type\": \"\",\n        \"description\": \"\"\n      }\n    },\n    {\n      \"column\": \"length_eng_sentence\",\n      \"properties\": {\n        \"dtype\": \"number\",\n        \"std\": 2,\n        \"min\": 1,\n        \"max\": 20,\n        \"num_unique_values\": 20,\n        \"samples\": [\n          9\n        ],\n        \"semantic_type\": \"\",\n        \"description\": \"\"\n      }\n    },\n    {\n      \"column\": \"length_hin_sentence\",\n      \"properties\": {\n        \"dtype\": \"number\",\n        \"std\": 3,\n        \"min\": 4,\n        \"max\": 20,\n        \"num_unique_values\": 17,\n        \"samples\": [\n          14\n        ],\n        \"semantic_type\": \"\",\n        \"description\": \"\"\n      }\n    }\n  ]\n}"
            }
          },
          "metadata": {},
          "execution_count": 70
        }
      ]
    },
    {
      "cell_type": "code",
      "source": [
        "X, y = lines['english_sentence'], lines['hindi_sentence']\n",
        "X_train, X_test, y_train, y_test = train_test_split(X, y, test_size = 0.2,random_state=42)\n",
        "X_train.shape, X_test.shape"
      ],
      "metadata": {
        "colab": {
          "base_uri": "https://localhost:8080/"
        },
        "id": "VrUAz1WLoaIe",
        "outputId": "726274ba-96f4-460b-c29e-dcb9375b9957"
      },
      "execution_count": null,
      "outputs": [
        {
          "output_type": "execute_result",
          "data": {
            "text/plain": [
              "((19668,), (4917,))"
            ]
          },
          "metadata": {},
          "execution_count": 71
        }
      ]
    },
    {
      "cell_type": "code",
      "source": [
        "X_train.to_pickle('X_train.pkl')\n",
        "X_test.to_pickle('X_test.pkl')"
      ],
      "metadata": {
        "id": "6h47fv3RofCf"
      },
      "execution_count": null,
      "outputs": []
    },
    {
      "cell_type": "code",
      "source": [
        "def generate_batch(X = X_train, y = y_train, batch_size = 128):\n",
        "    ''' Generate a batch of data '''\n",
        "    while True:\n",
        "        for j in range(0, len(X), batch_size):\n",
        "            encoder_input_data = np.zeros((batch_size, max_length_src),dtype='float32')\n",
        "            decoder_input_data = np.zeros((batch_size, max_length_tar),dtype='float32')\n",
        "            decoder_target_data = np.zeros((batch_size, max_length_tar, num_decoder_tokens),dtype='float32')\n",
        "            for i, (input_text, target_text) in enumerate(zip(X[j:j+batch_size], y[j:j+batch_size])):\n",
        "                for t, word in enumerate(input_text.split()):\n",
        "                    encoder_input_data[i, t] = input_token_index[word] # encoder input seq\n",
        "                for t, word in enumerate(target_text.split()):\n",
        "                    if t<len(target_text.split())-1:\n",
        "                        decoder_input_data[i, t] = target_token_index[word] # decoder input seq\n",
        "                    if t>0:\n",
        "                        # decoder target sequence (one hot encoded)\n",
        "                        # does not include the START_ token\n",
        "                        # Offset by one timestep\n",
        "                        decoder_target_data[i, t - 1, target_token_index[word]] = 1.\n",
        "            yield([encoder_input_data, decoder_input_data], decoder_target_data)"
      ],
      "metadata": {
        "id": "DbXr23aCohWY"
      },
      "execution_count": null,
      "outputs": []
    },
    {
      "cell_type": "code",
      "source": [
        "latent_dim=400"
      ],
      "metadata": {
        "id": "Y6Tftrmkoq8Q"
      },
      "execution_count": null,
      "outputs": []
    },
    {
      "cell_type": "code",
      "source": [
        "encoder_inputs = Input(shape=(None,))\n",
        "enc_emb =  Embedding(num_encoder_tokens, latent_dim, mask_zero = True)(encoder_inputs)\n",
        "encoder_lstm = LSTM(latent_dim, return_state=True, activation='tanh')\n",
        "encoder_outputs, state_h, state_c = encoder_lstm(enc_emb)\n",
        "# We discard `encoder_outputs` and only keep the states.\n",
        "encoder_states = [state_h, state_c]"
      ],
      "metadata": {
        "id": "D55WMMbOo4GU"
      },
      "execution_count": null,
      "outputs": []
    },
    {
      "cell_type": "code",
      "source": [
        "decoder_inputs = Input(shape=(None,))\n",
        "dec_emb_layer = Embedding(num_decoder_tokens, latent_dim, mask_zero = True)\n",
        "dec_emb = dec_emb_layer(decoder_inputs)\n",
        "# We set up our decoder to return full output sequences,\n",
        "# and to return internal states as well. We don't use the\n",
        "# return states in the training model, but we will use them in inference.\n",
        "decoder_lstm = LSTM(latent_dim, return_sequences=True, return_state=True, activation='tanh')\n",
        "decoder_outputs, _, _ = decoder_lstm(dec_emb,\n",
        "                                     initial_state=encoder_states)\n",
        "decoder_dense = Dense(num_decoder_tokens, activation='softmax')\n",
        "decoder_outputs = decoder_dense(decoder_outputs)\n",
        "# Define the model that will turn\n",
        "# `encoder_input_data` & `decoder_input_data` into `decoder_target_data`\n",
        "model = Model([encoder_inputs, decoder_inputs], decoder_outputs)"
      ],
      "metadata": {
        "id": "8i0ia6hUo6Lh"
      },
      "execution_count": null,
      "outputs": []
    },
    {
      "cell_type": "code",
      "source": [
        "from keras.optimizers import Adam\n",
        "\n",
        "# Set your desired learning rate\n",
        "learning_rate = 0.001\n",
        "\n",
        "# Define your optimizer with the specified learning rate\n",
        "optimizer = Adam(learning_rate=learning_rate)\n",
        "\n",
        "# Compile your model with the optimizer\n",
        "model.compile(optimizer=optimizer, loss='categorical_crossentropy',metrics=['accuracy'])\n"
      ],
      "metadata": {
        "id": "GKKM3mLwo-24"
      },
      "execution_count": null,
      "outputs": []
    },
    {
      "cell_type": "code",
      "source": [
        "model.summary()"
      ],
      "metadata": {
        "colab": {
          "base_uri": "https://localhost:8080/"
        },
        "id": "AWboZoRFpBRQ",
        "outputId": "04633954-4713-4ce6-9879-29c64418c2bf"
      },
      "execution_count": null,
      "outputs": [
        {
          "output_type": "stream",
          "name": "stdout",
          "text": [
            "Model: \"model_1\"\n",
            "__________________________________________________________________________________________________\n",
            " Layer (type)                Output Shape                 Param #   Connected to                  \n",
            "==================================================================================================\n",
            " input_3 (InputLayer)        [(None, None)]               0         []                            \n",
            "                                                                                                  \n",
            " input_4 (InputLayer)        [(None, None)]               0         []                            \n",
            "                                                                                                  \n",
            " embedding_2 (Embedding)     (None, None, 400)            5579200   ['input_3[0][0]']             \n",
            "                                                                                                  \n",
            " embedding_3 (Embedding)     (None, None, 400)            7016000   ['input_4[0][0]']             \n",
            "                                                                                                  \n",
            " lstm_2 (LSTM)               [(None, 400),                1281600   ['embedding_2[0][0]']         \n",
            "                              (None, 400),                                                        \n",
            "                              (None, 400)]                                                        \n",
            "                                                                                                  \n",
            " lstm_3 (LSTM)               [(None, None, 400),          1281600   ['embedding_3[0][0]',         \n",
            "                              (None, 400),                           'lstm_2[0][1]',              \n",
            "                              (None, 400)]                           'lstm_2[0][2]']              \n",
            "                                                                                                  \n",
            " dense_1 (Dense)             (None, None, 17540)          7033540   ['lstm_3[0][0]']              \n",
            "                                                                                                  \n",
            "==================================================================================================\n",
            "Total params: 22191940 (84.66 MB)\n",
            "Trainable params: 22191940 (84.66 MB)\n",
            "Non-trainable params: 0 (0.00 Byte)\n",
            "__________________________________________________________________________________________________\n"
          ]
        }
      ]
    },
    {
      "cell_type": "code",
      "source": [
        "train_samples = len(X_train)\n",
        "val_samples = len(X_test)\n",
        "batch_size = 128\n",
        "epochs = 100"
      ],
      "metadata": {
        "id": "2-8dme7DpDMK"
      },
      "execution_count": null,
      "outputs": []
    },
    {
      "cell_type": "code",
      "source": [
        "model.fit_generator(generator = generate_batch(X_train, y_train, batch_size = batch_size),\n",
        "                    steps_per_epoch = train_samples//batch_size,\n",
        "                    epochs=epochs,\n",
        "                    validation_data = generate_batch(X_test, y_test, batch_size = batch_size),\n",
        "                    validation_steps = val_samples//batch_size)\n",
        "model.save('translate.h5')"
      ],
      "metadata": {
        "colab": {
          "base_uri": "https://localhost:8080/"
        },
        "id": "6cQo3cXHpG7-",
        "outputId": "cbd1dad1-89d6-4414-df1e-1cc764e3b923"
      },
      "execution_count": null,
      "outputs": [
        {
          "metadata": {
            "tags": null
          },
          "name": "stderr",
          "output_type": "stream",
          "text": [
            "<ipython-input-80-314dbca857c5>:1: UserWarning: `Model.fit_generator` is deprecated and will be removed in a future version. Please use `Model.fit`, which supports generators.\n",
            "  model.fit_generator(generator = generate_batch(X_train, y_train, batch_size = batch_size),\n"
          ]
        },
        {
          "output_type": "stream",
          "name": "stdout",
          "text": [
            "Epoch 1/100\n",
            "153/153 [==============================] - 80s 463ms/step - loss: 5.8579 - accuracy: 0.2379 - val_loss: 5.0952 - val_accuracy: 0.2977\n",
            "Epoch 2/100\n",
            "153/153 [==============================] - 54s 354ms/step - loss: 4.8433 - accuracy: 0.3138 - val_loss: 4.8554 - val_accuracy: 0.3285\n",
            "Epoch 3/100\n",
            "153/153 [==============================] - 54s 353ms/step - loss: 4.5837 - accuracy: 0.3374 - val_loss: 4.7700 - val_accuracy: 0.3355\n",
            "Epoch 4/100\n",
            "153/153 [==============================] - 62s 408ms/step - loss: 4.4095 - accuracy: 0.3476 - val_loss: 4.6966 - val_accuracy: 0.3412\n",
            "Epoch 5/100\n",
            "153/153 [==============================] - 61s 401ms/step - loss: 4.2386 - accuracy: 0.3568 - val_loss: 4.6434 - val_accuracy: 0.3466\n",
            "Epoch 6/100\n",
            "153/153 [==============================] - 53s 347ms/step - loss: 4.0862 - accuracy: 0.3676 - val_loss: 4.6205 - val_accuracy: 0.3523\n",
            "Epoch 7/100\n",
            "153/153 [==============================] - 53s 345ms/step - loss: 3.9405 - accuracy: 0.3793 - val_loss: 4.6103 - val_accuracy: 0.3576\n",
            "Epoch 8/100\n",
            "153/153 [==============================] - 62s 404ms/step - loss: 3.7979 - accuracy: 0.3898 - val_loss: 4.5906 - val_accuracy: 0.3623\n",
            "Epoch 9/100\n",
            "153/153 [==============================] - 62s 408ms/step - loss: 3.6572 - accuracy: 0.4005 - val_loss: 4.6121 - val_accuracy: 0.3665\n",
            "Epoch 10/100\n",
            "153/153 [==============================] - 61s 402ms/step - loss: 3.5230 - accuracy: 0.4102 - val_loss: 4.6008 - val_accuracy: 0.3691\n",
            "Epoch 11/100\n",
            "153/153 [==============================] - 62s 405ms/step - loss: 3.3911 - accuracy: 0.4199 - val_loss: 4.5827 - val_accuracy: 0.3718\n",
            "Epoch 12/100\n",
            "153/153 [==============================] - 61s 402ms/step - loss: 3.2586 - accuracy: 0.4309 - val_loss: 4.5877 - val_accuracy: 0.3753\n",
            "Epoch 13/100\n",
            "153/153 [==============================] - 53s 345ms/step - loss: 3.1268 - accuracy: 0.4433 - val_loss: 4.5884 - val_accuracy: 0.3750\n",
            "Epoch 14/100\n",
            "153/153 [==============================] - 62s 407ms/step - loss: 2.9914 - accuracy: 0.4577 - val_loss: 4.6086 - val_accuracy: 0.3780\n",
            "Epoch 15/100\n",
            "153/153 [==============================] - 61s 403ms/step - loss: 2.8558 - accuracy: 0.4731 - val_loss: 4.6483 - val_accuracy: 0.3767\n",
            "Epoch 16/100\n",
            "153/153 [==============================] - 52s 343ms/step - loss: 2.7281 - accuracy: 0.4890 - val_loss: 4.6552 - val_accuracy: 0.3771\n",
            "Epoch 17/100\n",
            "153/153 [==============================] - 62s 405ms/step - loss: 2.6061 - accuracy: 0.5056 - val_loss: 4.6662 - val_accuracy: 0.3786\n",
            "Epoch 18/100\n",
            "153/153 [==============================] - 61s 402ms/step - loss: 2.4950 - accuracy: 0.5215 - val_loss: 4.7311 - val_accuracy: 0.3798\n",
            "Epoch 19/100\n",
            "153/153 [==============================] - 61s 402ms/step - loss: 2.3851 - accuracy: 0.5376 - val_loss: 4.7546 - val_accuracy: 0.3772\n",
            "Epoch 20/100\n",
            "153/153 [==============================] - 62s 404ms/step - loss: 2.2739 - accuracy: 0.5541 - val_loss: 4.7806 - val_accuracy: 0.3728\n",
            "Epoch 21/100\n",
            "153/153 [==============================] - 53s 346ms/step - loss: 2.1679 - accuracy: 0.5694 - val_loss: 4.8069 - val_accuracy: 0.3737\n",
            "Epoch 22/100\n",
            "153/153 [==============================] - 62s 405ms/step - loss: 2.0706 - accuracy: 0.5862 - val_loss: 4.8135 - val_accuracy: 0.3786\n",
            "Epoch 23/100\n",
            "153/153 [==============================] - 61s 402ms/step - loss: 1.9732 - accuracy: 0.6035 - val_loss: 4.8793 - val_accuracy: 0.3801\n",
            "Epoch 24/100\n",
            "153/153 [==============================] - 62s 403ms/step - loss: 1.8780 - accuracy: 0.6202 - val_loss: 4.9050 - val_accuracy: 0.3783\n",
            "Epoch 25/100\n",
            "153/153 [==============================] - 53s 345ms/step - loss: 1.7815 - accuracy: 0.6380 - val_loss: 4.9296 - val_accuracy: 0.3748\n",
            "Epoch 26/100\n",
            "153/153 [==============================] - 62s 403ms/step - loss: 1.6900 - accuracy: 0.6555 - val_loss: 4.9623 - val_accuracy: 0.3737\n",
            "Epoch 27/100\n",
            "153/153 [==============================] - 61s 402ms/step - loss: 1.6058 - accuracy: 0.6715 - val_loss: 5.0344 - val_accuracy: 0.3767\n",
            "Epoch 28/100\n",
            "153/153 [==============================] - 62s 403ms/step - loss: 1.5264 - accuracy: 0.6866 - val_loss: 5.0827 - val_accuracy: 0.3784\n",
            "Epoch 29/100\n",
            "153/153 [==============================] - 53s 345ms/step - loss: 1.4521 - accuracy: 0.7006 - val_loss: 5.1242 - val_accuracy: 0.3722\n",
            "Epoch 30/100\n",
            "153/153 [==============================] - 62s 408ms/step - loss: 1.3804 - accuracy: 0.7145 - val_loss: 5.1549 - val_accuracy: 0.3730\n",
            "Epoch 31/100\n",
            "153/153 [==============================] - 62s 404ms/step - loss: 1.3059 - accuracy: 0.7306 - val_loss: 5.2492 - val_accuracy: 0.3749\n",
            "Epoch 32/100\n",
            "153/153 [==============================] - 53s 346ms/step - loss: 1.2336 - accuracy: 0.7458 - val_loss: 5.2711 - val_accuracy: 0.3754\n",
            "Epoch 33/100\n",
            "153/153 [==============================] - 62s 405ms/step - loss: 1.1622 - accuracy: 0.7598 - val_loss: 5.3106 - val_accuracy: 0.3707\n",
            "Epoch 34/100\n",
            "153/153 [==============================] - 53s 347ms/step - loss: 1.1004 - accuracy: 0.7735 - val_loss: 5.3723 - val_accuracy: 0.3714\n",
            "Epoch 35/100\n",
            "153/153 [==============================] - 53s 347ms/step - loss: 1.0399 - accuracy: 0.7871 - val_loss: 5.4719 - val_accuracy: 0.3737\n",
            "Epoch 36/100\n",
            "153/153 [==============================] - 54s 353ms/step - loss: 0.9786 - accuracy: 0.8004 - val_loss: 5.5372 - val_accuracy: 0.3693\n",
            "Epoch 37/100\n",
            "153/153 [==============================] - 62s 405ms/step - loss: 0.9282 - accuracy: 0.8114 - val_loss: 5.5691 - val_accuracy: 0.3672\n",
            "Epoch 38/100\n",
            "153/153 [==============================] - 53s 345ms/step - loss: 0.8783 - accuracy: 0.8223 - val_loss: 5.6357 - val_accuracy: 0.3685\n",
            "Epoch 39/100\n",
            "153/153 [==============================] - 62s 405ms/step - loss: 0.8251 - accuracy: 0.8335 - val_loss: 5.6969 - val_accuracy: 0.3661\n",
            "Epoch 40/100\n",
            "153/153 [==============================] - 62s 404ms/step - loss: 0.7716 - accuracy: 0.8463 - val_loss: 5.7291 - val_accuracy: 0.3662\n",
            "Epoch 41/100\n",
            "153/153 [==============================] - 62s 404ms/step - loss: 0.7173 - accuracy: 0.8587 - val_loss: 5.7820 - val_accuracy: 0.3640\n",
            "Epoch 42/100\n",
            "153/153 [==============================] - 61s 402ms/step - loss: 0.6618 - accuracy: 0.8723 - val_loss: 5.8395 - val_accuracy: 0.3685\n",
            "Epoch 43/100\n",
            "153/153 [==============================] - 61s 401ms/step - loss: 0.6121 - accuracy: 0.8835 - val_loss: 5.9385 - val_accuracy: 0.3685\n",
            "Epoch 44/100\n",
            "153/153 [==============================] - 61s 401ms/step - loss: 0.5707 - accuracy: 0.8922 - val_loss: 5.9406 - val_accuracy: 0.3615\n",
            "Epoch 45/100\n",
            "153/153 [==============================] - 52s 343ms/step - loss: 0.5271 - accuracy: 0.9021 - val_loss: 5.9638 - val_accuracy: 0.3629\n",
            "Epoch 46/100\n",
            "153/153 [==============================] - 62s 406ms/step - loss: 0.4818 - accuracy: 0.9140 - val_loss: 6.0470 - val_accuracy: 0.3681\n",
            "Epoch 47/100\n",
            "153/153 [==============================] - 63s 410ms/step - loss: 0.4404 - accuracy: 0.9237 - val_loss: 6.1394 - val_accuracy: 0.3661\n",
            "Epoch 48/100\n",
            "153/153 [==============================] - 62s 409ms/step - loss: 0.3993 - accuracy: 0.9333 - val_loss: 6.2031 - val_accuracy: 0.3643\n",
            "Epoch 49/100\n",
            "153/153 [==============================] - 62s 403ms/step - loss: 0.3615 - accuracy: 0.9418 - val_loss: 6.2634 - val_accuracy: 0.3596\n",
            "Epoch 50/100\n",
            "153/153 [==============================] - 53s 344ms/step - loss: 0.3307 - accuracy: 0.9491 - val_loss: 6.3025 - val_accuracy: 0.3541\n",
            "Epoch 51/100\n",
            "153/153 [==============================] - 61s 403ms/step - loss: 0.3073 - accuracy: 0.9536 - val_loss: 6.3597 - val_accuracy: 0.3555\n",
            "Epoch 52/100\n",
            "153/153 [==============================] - 52s 343ms/step - loss: 0.2824 - accuracy: 0.9590 - val_loss: 6.4078 - val_accuracy: 0.3595\n",
            "Epoch 53/100\n",
            "153/153 [==============================] - 53s 345ms/step - loss: 0.2568 - accuracy: 0.9642 - val_loss: 6.4754 - val_accuracy: 0.3619\n",
            "Epoch 54/100\n",
            "153/153 [==============================] - 62s 404ms/step - loss: 0.2317 - accuracy: 0.9699 - val_loss: 6.5068 - val_accuracy: 0.3599\n",
            "Epoch 55/100\n",
            "153/153 [==============================] - 61s 401ms/step - loss: 0.2108 - accuracy: 0.9742 - val_loss: 6.5606 - val_accuracy: 0.3559\n",
            "Epoch 56/100\n",
            "153/153 [==============================] - 52s 343ms/step - loss: 0.1937 - accuracy: 0.9774 - val_loss: 6.6555 - val_accuracy: 0.3634\n",
            "Epoch 57/100\n",
            "153/153 [==============================] - 62s 403ms/step - loss: 0.1759 - accuracy: 0.9807 - val_loss: 6.6955 - val_accuracy: 0.3641\n",
            "Epoch 58/100\n",
            "153/153 [==============================] - 61s 402ms/step - loss: 0.1591 - accuracy: 0.9839 - val_loss: 6.7304 - val_accuracy: 0.3575\n",
            "Epoch 59/100\n",
            "153/153 [==============================] - 52s 343ms/step - loss: 0.1419 - accuracy: 0.9874 - val_loss: 6.8119 - val_accuracy: 0.3607\n",
            "Epoch 60/100\n",
            "153/153 [==============================] - 62s 404ms/step - loss: 0.1238 - accuracy: 0.9905 - val_loss: 6.8739 - val_accuracy: 0.3632\n",
            "Epoch 61/100\n",
            "153/153 [==============================] - 61s 403ms/step - loss: 0.1088 - accuracy: 0.9927 - val_loss: 6.9085 - val_accuracy: 0.3588\n",
            "Epoch 62/100\n",
            "153/153 [==============================] - 61s 402ms/step - loss: 0.0968 - accuracy: 0.9946 - val_loss: 6.9736 - val_accuracy: 0.3576\n",
            "Epoch 63/100\n",
            "153/153 [==============================] - 62s 403ms/step - loss: 0.0881 - accuracy: 0.9955 - val_loss: 7.0063 - val_accuracy: 0.3578\n",
            "Epoch 64/100\n",
            "153/153 [==============================] - 61s 401ms/step - loss: 0.0788 - accuracy: 0.9962 - val_loss: 7.0388 - val_accuracy: 0.3582\n",
            "Epoch 65/100\n",
            "153/153 [==============================] - 52s 343ms/step - loss: 0.0704 - accuracy: 0.9971 - val_loss: 7.1059 - val_accuracy: 0.3590\n",
            "Epoch 66/100\n",
            "153/153 [==============================] - 52s 343ms/step - loss: 0.0635 - accuracy: 0.9977 - val_loss: 7.1923 - val_accuracy: 0.3622\n",
            "Epoch 67/100\n",
            "153/153 [==============================] - 62s 403ms/step - loss: 0.0574 - accuracy: 0.9981 - val_loss: 7.2388 - val_accuracy: 0.3621\n",
            "Epoch 68/100\n",
            "153/153 [==============================] - 61s 402ms/step - loss: 0.0514 - accuracy: 0.9985 - val_loss: 7.2997 - val_accuracy: 0.3596\n",
            "Epoch 69/100\n",
            "153/153 [==============================] - 52s 343ms/step - loss: 0.0472 - accuracy: 0.9986 - val_loss: 7.3271 - val_accuracy: 0.3578\n",
            "Epoch 70/100\n",
            "153/153 [==============================] - 53s 344ms/step - loss: 0.0435 - accuracy: 0.9988 - val_loss: 7.3803 - val_accuracy: 0.3562\n",
            "Epoch 71/100\n",
            "153/153 [==============================] - 61s 400ms/step - loss: 0.0394 - accuracy: 0.9989 - val_loss: 7.4504 - val_accuracy: 0.3606\n",
            "Epoch 72/100\n",
            "153/153 [==============================] - 61s 401ms/step - loss: 0.0358 - accuracy: 0.9991 - val_loss: 7.4619 - val_accuracy: 0.3578\n",
            "Epoch 73/100\n",
            "153/153 [==============================] - 61s 401ms/step - loss: 0.0334 - accuracy: 0.9990 - val_loss: 7.4973 - val_accuracy: 0.3583\n",
            "Epoch 74/100\n",
            "153/153 [==============================] - 52s 341ms/step - loss: 0.0309 - accuracy: 0.9991 - val_loss: 7.5830 - val_accuracy: 0.3602\n",
            "Epoch 75/100\n",
            "153/153 [==============================] - 61s 401ms/step - loss: 0.0284 - accuracy: 0.9991 - val_loss: 7.6182 - val_accuracy: 0.3590\n",
            "Epoch 76/100\n",
            "153/153 [==============================] - 62s 405ms/step - loss: 0.0265 - accuracy: 0.9991 - val_loss: 7.6347 - val_accuracy: 0.3586\n",
            "Epoch 77/100\n",
            "153/153 [==============================] - 62s 405ms/step - loss: 0.0244 - accuracy: 0.9992 - val_loss: 7.6718 - val_accuracy: 0.3576\n",
            "Epoch 78/100\n",
            "153/153 [==============================] - 52s 342ms/step - loss: 0.0229 - accuracy: 0.9991 - val_loss: 7.6939 - val_accuracy: 0.3570\n",
            "Epoch 79/100\n",
            "153/153 [==============================] - 52s 342ms/step - loss: 0.0213 - accuracy: 0.9992 - val_loss: 7.7773 - val_accuracy: 0.3589\n",
            "Epoch 80/100\n",
            "153/153 [==============================] - 62s 404ms/step - loss: 0.0199 - accuracy: 0.9992 - val_loss: 7.8360 - val_accuracy: 0.3593\n",
            "Epoch 81/100\n",
            "153/153 [==============================] - 52s 342ms/step - loss: 0.0188 - accuracy: 0.9991 - val_loss: 7.8449 - val_accuracy: 0.3550\n",
            "Epoch 82/100\n",
            "153/153 [==============================] - 53s 345ms/step - loss: 0.0181 - accuracy: 0.9991 - val_loss: 7.8850 - val_accuracy: 0.3569\n",
            "Epoch 83/100\n",
            "153/153 [==============================] - 62s 404ms/step - loss: 0.0179 - accuracy: 0.9990 - val_loss: 7.9550 - val_accuracy: 0.3590\n",
            "Epoch 84/100\n",
            "153/153 [==============================] - 52s 344ms/step - loss: 0.0192 - accuracy: 0.9988 - val_loss: 7.9837 - val_accuracy: 0.3580\n",
            "Epoch 85/100\n",
            "153/153 [==============================] - 61s 402ms/step - loss: 0.0225 - accuracy: 0.9982 - val_loss: 8.0065 - val_accuracy: 0.3554\n",
            "Epoch 86/100\n",
            "153/153 [==============================] - 62s 405ms/step - loss: 0.0268 - accuracy: 0.9974 - val_loss: 8.0253 - val_accuracy: 0.3571\n",
            "Epoch 87/100\n",
            "153/153 [==============================] - 61s 402ms/step - loss: 0.0324 - accuracy: 0.9964 - val_loss: 8.0673 - val_accuracy: 0.3577\n",
            "Epoch 88/100\n",
            "153/153 [==============================] - 61s 402ms/step - loss: 0.0343 - accuracy: 0.9959 - val_loss: 8.0972 - val_accuracy: 0.3614\n",
            "Epoch 89/100\n",
            "153/153 [==============================] - 62s 404ms/step - loss: 0.0339 - accuracy: 0.9954 - val_loss: 8.2112 - val_accuracy: 0.3619\n",
            "Epoch 90/100\n",
            "153/153 [==============================] - 52s 343ms/step - loss: 0.0297 - accuracy: 0.9964 - val_loss: 8.1230 - val_accuracy: 0.3599\n",
            "Epoch 91/100\n",
            "153/153 [==============================] - 61s 401ms/step - loss: 0.0232 - accuracy: 0.9975 - val_loss: 8.1576 - val_accuracy: 0.3587\n",
            "Epoch 92/100\n",
            "153/153 [==============================] - 52s 340ms/step - loss: 0.0167 - accuracy: 0.9987 - val_loss: 8.1863 - val_accuracy: 0.3604\n",
            "Epoch 93/100\n",
            "153/153 [==============================] - 61s 402ms/step - loss: 0.0117 - accuracy: 0.9992 - val_loss: 8.2266 - val_accuracy: 0.3598\n",
            "Epoch 94/100\n",
            "153/153 [==============================] - 52s 341ms/step - loss: 0.0089 - accuracy: 0.9994 - val_loss: 8.2680 - val_accuracy: 0.3595\n",
            "Epoch 95/100\n",
            "153/153 [==============================] - 62s 404ms/step - loss: 0.0077 - accuracy: 0.9995 - val_loss: 8.3067 - val_accuracy: 0.3597\n",
            "Epoch 96/100\n",
            "153/153 [==============================] - 52s 342ms/step - loss: 0.0071 - accuracy: 0.9995 - val_loss: 8.3432 - val_accuracy: 0.3593\n",
            "Epoch 97/100\n",
            "153/153 [==============================] - 52s 341ms/step - loss: 0.0065 - accuracy: 0.9995 - val_loss: 8.3748 - val_accuracy: 0.3590\n",
            "Epoch 98/100\n",
            "153/153 [==============================] - 53s 345ms/step - loss: 0.0059 - accuracy: 0.9995 - val_loss: 8.4056 - val_accuracy: 0.3591\n",
            "Epoch 99/100\n",
            "153/153 [==============================] - 52s 343ms/step - loss: 0.0055 - accuracy: 0.9995 - val_loss: 8.4370 - val_accuracy: 0.3585\n",
            "Epoch 100/100\n",
            "153/153 [==============================] - 62s 403ms/step - loss: 0.0052 - accuracy: 0.9995 - val_loss: 8.4624 - val_accuracy: 0.3589\n"
          ]
        },
        {
          "output_type": "stream",
          "name": "stderr",
          "text": [
            "/usr/local/lib/python3.10/dist-packages/keras/src/engine/training.py:3103: UserWarning: You are saving your model as an HDF5 file via `model.save()`. This file format is considered legacy. We recommend using instead the native Keras format, e.g. `model.save('my_model.keras')`.\n",
            "  saving_api.save_model(\n"
          ]
        }
      ]
    },
    {
      "cell_type": "code",
      "source": [
        "model.save_weights('nmt_weights.h5')"
      ],
      "metadata": {
        "id": "eNU0BtPgpKIR"
      },
      "execution_count": null,
      "outputs": []
    },
    {
      "cell_type": "code",
      "source": [
        "encoder_model = Model(encoder_inputs, encoder_states)\n",
        "\n",
        "# Decoder setup\n",
        "# Below tensors will hold the states of the previous time step\n",
        "decoder_state_input_h = Input(shape=(latent_dim,))\n",
        "decoder_state_input_c = Input(shape=(latent_dim,))\n",
        "decoder_states_inputs = [decoder_state_input_h, decoder_state_input_c]\n",
        "\n",
        "dec_emb2= dec_emb_layer(decoder_inputs) # Get the embeddings of the decoder sequence\n",
        "\n",
        "# To predict the next word in the sequence, set the initial states to the states from the previous time step\n",
        "decoder_outputs2, state_h2, state_c2 = decoder_lstm(dec_emb2, initial_state=decoder_states_inputs)\n",
        "decoder_states2 = [state_h2, state_c2]\n",
        "decoder_outputs2 = decoder_dense(decoder_outputs2) # A dense softmax layer to generate prob dist. over the target vocabulary"
      ],
      "metadata": {
        "id": "XKmYpUJtDrfU"
      },
      "execution_count": null,
      "outputs": []
    },
    {
      "cell_type": "code",
      "source": [
        "decoder_model = Model(\n",
        "    [decoder_inputs] + decoder_states_inputs,\n",
        "    [decoder_outputs2] + decoder_states2)"
      ],
      "metadata": {
        "id": "rzDUQ_FxDyQj"
      },
      "execution_count": null,
      "outputs": []
    },
    {
      "cell_type": "code",
      "source": [
        "def decode_sequence(input_seq):\n",
        "    # Encode the input as state vectors.\n",
        "    states_value = encoder_model.predict(input_seq)\n",
        "    # Generate empty target sequence of length 1.\n",
        "    target_seq = np.zeros((1,1))\n",
        "    # Populate the first character of target sequence with the start character.\n",
        "    target_seq[0, 0] = target_token_index['START_']\n",
        "\n",
        "    # Sampling loop for a batch of sequences\n",
        "    # (to simplify, here we assume a batch of size 1).\n",
        "    stop_condition = False\n",
        "    decoded_sentence = ''\n",
        "    while not stop_condition:\n",
        "        output_tokens, h, c = decoder_model.predict([target_seq] + states_value)\n",
        "\n",
        "        # Sample a token\n",
        "        sampled_token_index = np.argmax(output_tokens[0, -1, :])\n",
        "        sampled_char = reverse_target_char_index[sampled_token_index]\n",
        "        decoded_sentence += ' '+sampled_char\n",
        "        # Exit condition: either hit max length\n",
        "        # or find stop character.\n",
        "        if (sampled_char == '_END' or\n",
        "           len(decoded_sentence) > 50):\n",
        "            stop_condition = True\n",
        "\n",
        "        # Update the target sequence (of length 1).\n",
        "        target_seq = np.zeros((1,1))\n",
        "        target_seq[0, 0] = sampled_token_index\n",
        "\n",
        "        # Update states\n",
        "        states_value = [h, c]\n",
        "\n",
        "    return decoded_sentence"
      ],
      "metadata": {
        "id": "fHt5bx95D4YA"
      },
      "execution_count": null,
      "outputs": []
    },
    {
      "cell_type": "code",
      "source": [
        "train_gen = generate_batch(X_train, y_train, batch_size = 1)\n",
        "k=-1"
      ],
      "metadata": {
        "id": "xjshZOmeEOTZ"
      },
      "execution_count": null,
      "outputs": []
    },
    {
      "cell_type": "code",
      "source": [],
      "metadata": {
        "id": "HUIonEtMFUhO"
      },
      "execution_count": null,
      "outputs": []
    },
    {
      "cell_type": "code",
      "source": [],
      "metadata": {
        "id": "yiHVT_LjFUJj"
      },
      "execution_count": null,
      "outputs": []
    },
    {
      "cell_type": "code",
      "source": [
        "k+=1\n",
        "(input_seq, actual_output), _ = next(train_gen)\n",
        "decoded_sentence = decode_sequence(input_seq)\n",
        "print('Input English sentence:', X_train[k:k+1].values[0])\n",
        "print('Actual Hindi Translation:', y_train[k:k+1].values[0][6:-4])\n",
        "print('Predicted Hindi Translation:', decoded_sentence[:-4])"
      ],
      "metadata": {
        "colab": {
          "base_uri": "https://localhost:8080/"
        },
        "id": "XJt8vdylEUPZ",
        "outputId": "a5e60660-1b36-4bab-d9a1-53f5d1f0bfbd"
      },
      "execution_count": null,
      "outputs": [
        {
          "output_type": "stream",
          "name": "stdout",
          "text": [
            "1/1 [==============================] - 0s 20ms/step\n",
            "1/1 [==============================] - 0s 21ms/step\n",
            "1/1 [==============================] - 0s 22ms/step\n",
            "1/1 [==============================] - 0s 19ms/step\n",
            "1/1 [==============================] - 0s 18ms/step\n",
            "1/1 [==============================] - 0s 19ms/step\n",
            "1/1 [==============================] - 0s 19ms/step\n",
            "1/1 [==============================] - 0s 19ms/step\n",
            "Input English sentence: but that slowness that caution\n",
            "Actual Hindi Translation:  start लेकिन यहसुस्ती यह सावधानी end \n",
            "Predicted Hindi Translation:  start लेकिन यहसुस्ती यह सावधानी end \n"
          ]
        }
      ]
    },
    {
      "cell_type": "code",
      "source": [
        "k+=1\n",
        "(input_seq, actual_output), _ = next(train_gen)\n",
        "decoded_sentence = decode_sequence(input_seq)\n",
        "print('Input English sentence:', X_train[k:k+1].values[0])\n",
        "print('Actual Hindi Translation:', y_train[k:k+1].values[0][6:-4])\n",
        "print('Predicted Hindi Translation:', decoded_sentence[:-4])"
      ],
      "metadata": {
        "colab": {
          "base_uri": "https://localhost:8080/"
        },
        "id": "SoW2Z51oEW68",
        "outputId": "1ba32ca7-b224-450a-a559-6ad6a5254c89"
      },
      "execution_count": null,
      "outputs": [
        {
          "output_type": "stream",
          "name": "stdout",
          "text": [
            "1/1 [==============================] - 0s 19ms/step\n",
            "1/1 [==============================] - 0s 19ms/step\n",
            "1/1 [==============================] - 0s 20ms/step\n",
            "1/1 [==============================] - 0s 20ms/step\n",
            "1/1 [==============================] - 0s 19ms/step\n",
            "1/1 [==============================] - 0s 21ms/step\n",
            "1/1 [==============================] - 0s 21ms/step\n",
            "1/1 [==============================] - 0s 21ms/step\n",
            "Input English sentence: are bad at paying attention\n",
            "Actual Hindi Translation:  start ध्यान नहीं दे पाते end \n",
            "Predicted Hindi Translation:  start ध्यान नहीं दे पाते end \n"
          ]
        }
      ]
    },
    {
      "cell_type": "code",
      "source": [
        "k+=1\n",
        "(input_seq, actual_output), _ = next(train_gen)\n",
        "decoded_sentence = decode_sequence(input_seq)\n",
        "print('Input English sentence:', X_train[k:k+1].values[0])\n",
        "print('Actual Hindi Translation:', y_train[k:k+1].values[0][6:-4])\n",
        "print('Predicted Hindi Translation:', decoded_sentence[:-4])"
      ],
      "metadata": {
        "colab": {
          "base_uri": "https://localhost:8080/"
        },
        "id": "JyMbKz1EEdm1",
        "outputId": "90ec3d2c-d4c2-436e-aa1c-347bf1a986f4"
      },
      "execution_count": null,
      "outputs": [
        {
          "output_type": "stream",
          "name": "stdout",
          "text": [
            "1/1 [==============================] - 0s 17ms/step\n",
            "1/1 [==============================] - 0s 25ms/step\n",
            "1/1 [==============================] - 0s 22ms/step\n",
            "1/1 [==============================] - 0s 21ms/step\n",
            "1/1 [==============================] - 0s 19ms/step\n",
            "1/1 [==============================] - 0s 19ms/step\n",
            "1/1 [==============================] - 0s 18ms/step\n",
            "1/1 [==============================] - 0s 21ms/step\n",
            "1/1 [==============================] - 0s 21ms/step\n",
            "1/1 [==============================] - 0s 20ms/step\n",
            "1/1 [==============================] - 0s 19ms/step\n",
            "1/1 [==============================] - 0s 22ms/step\n",
            "1/1 [==============================] - 0s 19ms/step\n",
            "Input English sentence: we have reached a moment from which can emerge\n",
            "Actual Hindi Translation:  start वो क्षण आ गया है जिससे उभर सकता है end \n",
            "Predicted Hindi Translation:  start वो क्षण आ गया है जिससे उभर सकता है end \n"
          ]
        }
      ]
    },
    {
      "cell_type": "code",
      "source": [
        "k+=1\n",
        "(input_seq, actual_output), _ = next(train_gen)\n",
        "decoded_sentence = decode_sequence(input_seq)\n",
        "print('Input English sentence:', X_train[k:k+1].values[0])\n",
        "print('Actual Hindi Translation:', y_train[k:k+1].values[0][6:-4])\n",
        "print('Predicted Hindi Translation:', decoded_sentence[:-4])"
      ],
      "metadata": {
        "colab": {
          "base_uri": "https://localhost:8080/"
        },
        "id": "CSX1fUrDEi_K",
        "outputId": "648cdee4-ee34-4d62-d6ca-85979dc0eab7"
      },
      "execution_count": null,
      "outputs": [
        {
          "output_type": "stream",
          "name": "stdout",
          "text": [
            "1/1 [==============================] - 0s 19ms/step\n",
            "1/1 [==============================] - 0s 19ms/step\n",
            "1/1 [==============================] - 0s 19ms/step\n",
            "1/1 [==============================] - 0s 19ms/step\n",
            "1/1 [==============================] - 0s 19ms/step\n",
            "1/1 [==============================] - 0s 19ms/step\n",
            "1/1 [==============================] - 0s 20ms/step\n",
            "1/1 [==============================] - 0s 20ms/step\n",
            "1/1 [==============================] - 0s 19ms/step\n",
            "1/1 [==============================] - 0s 18ms/step\n",
            "Input English sentence: the first was the feedback from my cousins\n",
            "Actual Hindi Translation:  start सबसे पहले तो मेरे रिश्तेदारों की प्रकिया। end \n",
            "Predicted Hindi Translation:  start सबसे पहले तो मेरे रिश्तेदारों की प्रकिया।\n"
          ]
        }
      ]
    },
    {
      "cell_type": "code",
      "source": [
        "\n",
        "k+=1\n",
        "(input_seq, actual_output), _ = next(train_gen)\n",
        "decoded_sentence = decode_sequence(input_seq)\n",
        "print('Input English sentence:', X_train[k:k+1].values[0])\n",
        "print('Actual Hindi Translation:', y_train[k:k+1].values[0][6:-4])\n",
        "print('Predicted Hindi Translation:', decoded_sentence[:-4])"
      ],
      "metadata": {
        "colab": {
          "base_uri": "https://localhost:8080/"
        },
        "id": "ipzF3VPqEn7_",
        "outputId": "e68ed9d9-ab86-4d72-fc43-61d9b3f9d1f8"
      },
      "execution_count": null,
      "outputs": [
        {
          "output_type": "stream",
          "name": "stdout",
          "text": [
            "1/1 [==============================] - 0s 18ms/step\n",
            "1/1 [==============================] - 0s 19ms/step\n",
            "1/1 [==============================] - 0s 21ms/step\n",
            "1/1 [==============================] - 0s 20ms/step\n",
            "1/1 [==============================] - 0s 19ms/step\n",
            "1/1 [==============================] - 0s 18ms/step\n",
            "1/1 [==============================] - 0s 19ms/step\n",
            "1/1 [==============================] - 0s 20ms/step\n",
            "1/1 [==============================] - 0s 18ms/step\n",
            "1/1 [==============================] - 0s 22ms/step\n",
            "1/1 [==============================] - 0s 18ms/step\n",
            "1/1 [==============================] - 0s 18ms/step\n",
            "1/1 [==============================] - 0s 18ms/step\n",
            "Input English sentence: and so if we can do that then we can free up\n",
            "Actual Hindi Translation:  start इस प्रकार यदि हम इस कार्य में सफल रहे तो end \n",
            "Predicted Hindi Translation:  start इस प्रकार यदि हम इस कार्य में सफल रहे तो\n"
          ]
        }
      ]
    },
    {
      "cell_type": "code",
      "source": [
        "from nltk.translate.bleu_score import sentence_bleu, SmoothingFunction\n",
        "\n",
        "# Your hypothesis and reference strings\n",
        "a = y_train[k:k+1].values[0][6:-4]\n",
        "b = decoded_sentence[:-4]\n",
        "\n",
        "# Calculate BLEU score with smoothing\n",
        "score = sentence_bleu([b], a, smoothing_function=SmoothingFunction().method1)\n",
        "print('Bleu score:', '%.6f' % score)\n"
      ],
      "metadata": {
        "colab": {
          "base_uri": "https://localhost:8080/"
        },
        "id": "o3nVQP7DF4R3",
        "outputId": "c10d354b-cbf8-433d-8005-dfbfa5c6d3fa"
      },
      "execution_count": null,
      "outputs": [
        {
          "output_type": "stream",
          "name": "stdout",
          "text": [
            "Bleu score: 0.900939\n"
          ]
        }
      ]
    },
    {
      "cell_type": "code",
      "source": [],
      "metadata": {
        "id": "5i9a0djpF_fq"
      },
      "execution_count": null,
      "outputs": []
    },
    {
      "cell_type": "code",
      "source": [
        "\n"
      ],
      "metadata": {
        "id": "R6An_iUpGEr7"
      },
      "execution_count": null,
      "outputs": []
    },
    {
      "cell_type": "code",
      "source": [],
      "metadata": {
        "id": "XKrl653hGrjJ"
      },
      "execution_count": null,
      "outputs": []
    },
    {
      "cell_type": "code",
      "source": [],
      "metadata": {
        "id": "c7CdXc9NGuKj"
      },
      "execution_count": null,
      "outputs": []
    },
    {
      "cell_type": "code",
      "source": [],
      "metadata": {
        "id": "9dSXdl-hGwMG"
      },
      "execution_count": null,
      "outputs": []
    },
    {
      "cell_type": "code",
      "source": [],
      "metadata": {
        "id": "fri2p2h4Gz5T"
      },
      "execution_count": null,
      "outputs": []
    },
    {
      "cell_type": "code",
      "source": [],
      "metadata": {
        "id": "Gpzgz5mFG104"
      },
      "execution_count": null,
      "outputs": []
    },
    {
      "cell_type": "code",
      "source": [],
      "metadata": {
        "id": "qePZJ1seG4q-"
      },
      "execution_count": null,
      "outputs": []
    },
    {
      "cell_type": "code",
      "source": [
        "\n"
      ],
      "metadata": {
        "id": "xv-if4Q1G7EP"
      },
      "execution_count": null,
      "outputs": []
    },
    {
      "cell_type": "code",
      "source": [],
      "metadata": {
        "id": "Iv4T7B9qG8wd"
      },
      "execution_count": null,
      "outputs": []
    },
    {
      "cell_type": "code",
      "source": [],
      "metadata": {
        "id": "Gvs4jh1vG-fc"
      },
      "execution_count": null,
      "outputs": []
    },
    {
      "cell_type": "code",
      "source": [],
      "metadata": {
        "id": "1NQU9883HBl_"
      },
      "execution_count": null,
      "outputs": []
    },
    {
      "cell_type": "code",
      "source": [],
      "metadata": {
        "id": "Br5bTZjQHTei"
      },
      "execution_count": null,
      "outputs": []
    },
    {
      "cell_type": "code",
      "source": [],
      "metadata": {
        "id": "J-hBx1OPHYP1"
      },
      "execution_count": null,
      "outputs": []
    },
    {
      "cell_type": "code",
      "source": [],
      "metadata": {
        "id": "dalC2NqGHdU0"
      },
      "execution_count": null,
      "outputs": []
    },
    {
      "cell_type": "code",
      "source": [],
      "metadata": {
        "id": "iiJJERY-HgnL"
      },
      "execution_count": null,
      "outputs": []
    },
    {
      "cell_type": "code",
      "source": [],
      "metadata": {
        "id": "5i091ELOHjmf"
      },
      "execution_count": null,
      "outputs": []
    },
    {
      "cell_type": "code",
      "source": [],
      "metadata": {
        "id": "nUCDvL7xHpxD"
      },
      "execution_count": null,
      "outputs": []
    },
    {
      "cell_type": "code",
      "source": [],
      "metadata": {
        "id": "BuIWEBCEHxlC"
      },
      "execution_count": null,
      "outputs": []
    }
  ]
}